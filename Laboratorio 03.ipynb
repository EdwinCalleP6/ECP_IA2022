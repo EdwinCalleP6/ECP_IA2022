{
 "cells": [
  {
   "cell_type": "code",
   "execution_count": 1,
   "id": "d0e4e268",
   "metadata": {},
   "outputs": [],
   "source": [
    "\"\"\"\n",
    "    Materia : SIS420\n",
    "\n",
    "Integrantes:  Calle Perez Edwin\n",
    "              Anarata Dias Mario\n",
    "\"\"\"\n",
    "# datos = estado\n",
    "class Nodo:\n",
    "    def __init__(self, datos, hijo=None):\n",
    "        self.datos = datos\n",
    "        self.hijos = []\n",
    "        self.padre = None\n",
    "        self.costo = None\n",
    "        self.set_hijo(hijo)\n",
    "        \n",
    "    def set_hijo(self, hijo):\n",
    "        if (hijo is not None):\n",
    "            self.hijos.append(hijo)\n",
    "            if self.hijos is not None:\n",
    "                for h in self.hijos:\n",
    "                    h.padre = self\n",
    "                \n",
    "    def get_hijos(self):\n",
    "        return self.hijos\n",
    "    \n",
    "    def set_padre(self, padre):\n",
    "        self.padre = padre\n",
    "        \n",
    "    def get_padre(self):\n",
    "        return self.padre\n",
    "\n",
    "    def set_datos(self, datos):\n",
    "        self.datos = datos\n",
    "    \n",
    "    def get_datos(self):\n",
    "        return self.datos\n",
    "    \n",
    "    def set_costo(self, costo):\n",
    "        self.costo = costo\n",
    "        \n",
    "    def get_costo(self):\n",
    "        return self.costo\n",
    "    \n",
    "    def equal(self, nodo):\n",
    "        if self.get_datos() == nodo.get_datos():\n",
    "            return True\n",
    "        else:\n",
    "            return False\n",
    "    \n",
    "    def en_lista(self, lista_nodos):\n",
    "        enlistado = False\n",
    "        for n in lista_nodos:\n",
    "            if self.equal(n):\n",
    "                enlistado = True\n",
    "        return enlistado\n",
    "    \n",
    "    def __str__(self):\n",
    "        return str(self.get_datos())"
   ]
  },
  {
   "cell_type": "code",
   "execution_count": 2,
   "id": "a679e621",
   "metadata": {},
   "outputs": [],
   "source": [
    "def bpa(estado_inicio, estado_solucion):\n",
    "    resuelto = False\n",
    "    nodos_visitados = []\n",
    "    nodos_frontera = []\n",
    "    nodo_inicio = Nodo(estado_inicio)\n",
    "    nodos_frontera.append(nodo_inicio)\n",
    "    \n",
    "    while resuelto == False and len(nodos_frontera) != 0:\n",
    "        nodo_actual = nodos_frontera.pop(0)\n",
    "        nodos_visitados.append(nodo_actual)\n",
    "        if nodo_actual.get_datos() == estado_solucion:\n",
    "            resuelto = True\n",
    "            return nodo_actual\n",
    "        else:\n",
    "            hijo1_datos = nodo_actual.get_datos().copy()\n",
    "            temp = hijo1_datos[0]\n",
    "            hijo1_datos[0] = hijo1_datos[1]\n",
    "            hijo1_datos[1] = temp\n",
    "            hijo1 = Nodo(hijo1_datos)\n",
    "            \n",
    "            if not hijo1.en_lista(nodos_visitados) and not hijo1.en_lista(nodos_frontera):\n",
    "                nodo_actual.set_hijo(hijo1)\n",
    "                nodos_frontera.append(hijo1)\n",
    "                \n",
    "            hijo2_datos = nodo_actual.get_datos().copy()\n",
    "            temp = hijo2_datos[1]\n",
    "            hijo2_datos[1] = hijo2_datos[2]\n",
    "            hijo2_datos[2] = temp\n",
    "            hijo2 = Nodo(hijo2_datos)\n",
    "            if not hijo2.en_lista(nodos_visitados) and not hijo2.en_lista(nodos_frontera):\n",
    "                nodos_frontera.append(hijo2)\n",
    "                nodo_actual.set_hijo(hijo2)\n",
    "                \n",
    "            hijo3_datos = nodo_actual.get_datos().copy()\n",
    "            temp = hijo3_datos[2]\n",
    "            hijo3_datos[2] = hijo3_datos[3]\n",
    "            hijo3_datos[3] = temp\n",
    "            hijo3 = Nodo(hijo3_datos)\n",
    "            if not hijo3.en_lista(nodos_visitados) and not hijo3.en_lista(nodos_frontera):\n",
    "                nodos_frontera.append(hijo3)\n",
    "                nodo_actual.set_hijo(hijo3)           "
   ]
  },
  {
   "cell_type": "code",
   "execution_count": 3,
   "id": "2b1b2979",
   "metadata": {},
   "outputs": [],
   "source": [
    "def bpa(estado_inicio, estado_solucion):\n",
    "    resuelto = False\n",
    "    nodos_visitados = []\n",
    "    nodos_frontera = []\n",
    "    nodo_inicio = Nodo(estado_inicio)\n",
    "    nodos_frontera.append(nodo_inicio)\n",
    "\n",
    "    while resuelto == False and len(nodos_frontera) != 0:\n",
    "        nodo_actual = nodos_frontera.pop() #con posicion 0 es mas lento  pila\n",
    "        nodos_visitados.append(nodo_actual)\n",
    "        if nodo_actual.get_datos() == estado_solucion:\n",
    "            resuelto = True\n",
    "            return nodo_actual\n",
    "        else:\n",
    "            #El for controla el limite de numeros a ingresar \n",
    "            #El tiempo para [1,2,3,4] numeros es de 0.1 s\n",
    "            #El tiempo para [1,2,3,4,5] numeros es de 0.2s \n",
    "            #El tiempo que tarda en [1,2,3,4,5,6,7] numeros es 0.36 s.\n",
    "            #Tambien se vio que el .pop() en posicion 0 hace que la busqueda sea mas lenta\n",
    "            #a partir de 8 numeros en adelante  la busqueda ya requiere mucho mas tiempo, y tambien depende del procesador de la maquina\n",
    "            #El .pop() sin posicion es una pila , ya que saca el ultimo elemento\n",
    "            for i in range(6): # 1 2 3 4 5 6 \n",
    "                hijo1_datos = nodo_actual.get_datos().copy()\n",
    "                temp = hijo1_datos[i]\n",
    "                hijo1_datos[i] = hijo1_datos[i+1]\n",
    "                hijo1_datos[i+1] = temp\n",
    "                hijo1 = Nodo(hijo1_datos)\n",
    "                \n",
    "                if not hijo1.en_lista(nodos_visitados) and not hijo1.en_lista(nodos_frontera):\n",
    "                    nodo_actual.set_hijo(hijo1)\n",
    "                    nodos_frontera.append(hijo1)"
   ]
  },
  {
   "cell_type": "code",
   "execution_count": 4,
   "id": "ae74c57e",
   "metadata": {},
   "outputs": [
    {
     "name": "stdout",
     "output_type": "stream",
     "text": [
      "[[7, 6, 5, 4, 3, 2, 1], [7, 6, 5, 4, 3, 1, 2], [7, 6, 5, 4, 1, 3, 2], [7, 6, 5, 4, 1, 2, 3], [7, 6, 5, 4, 2, 1, 3], [7, 6, 5, 2, 4, 1, 3], [7, 6, 5, 2, 4, 3, 1], [7, 6, 5, 2, 3, 4, 1], [7, 6, 5, 2, 3, 1, 4], [7, 6, 5, 2, 1, 3, 4], [7, 6, 5, 1, 2, 3, 4], [7, 6, 5, 1, 2, 4, 3], [7, 6, 1, 5, 2, 4, 3], [7, 6, 1, 5, 4, 2, 3], [7, 6, 1, 5, 4, 3, 2], [7, 6, 1, 5, 3, 4, 2], [7, 6, 1, 5, 3, 2, 4], [7, 6, 1, 3, 5, 2, 4], [7, 6, 1, 3, 2, 5, 4], [7, 6, 1, 3, 2, 4, 5], [7, 6, 1, 3, 4, 2, 5], [7, 6, 1, 3, 4, 5, 2], [7, 6, 1, 4, 3, 5, 2], [7, 6, 4, 1, 3, 5, 2], [7, 6, 4, 1, 3, 2, 5], [7, 6, 4, 1, 2, 3, 5], [7, 6, 4, 1, 2, 5, 3], [7, 6, 4, 1, 5, 2, 3], [7, 4, 6, 1, 5, 2, 3], [7, 4, 6, 1, 5, 3, 2], [7, 4, 6, 5, 1, 3, 2], [7, 4, 6, 5, 3, 1, 2], [7, 4, 6, 5, 3, 2, 1], [7, 4, 6, 5, 2, 3, 1], [7, 4, 6, 5, 2, 1, 3], [7, 4, 6, 2, 5, 1, 3], [7, 4, 6, 2, 1, 5, 3], [7, 4, 6, 2, 1, 3, 5], [7, 4, 6, 2, 3, 1, 5], [7, 4, 6, 2, 3, 5, 1], [7, 4, 6, 3, 2, 5, 1], [7, 4, 3, 6, 2, 5, 1], [7, 4, 3, 6, 2, 1, 5], [7, 4, 3, 6, 1, 2, 5], [7, 4, 3, 6, 1, 5, 2], [7, 4, 3, 6, 5, 1, 2], [7, 4, 3, 5, 6, 1, 2], [7, 4, 3, 5, 6, 2, 1], [7, 4, 3, 5, 2, 6, 1], [7, 4, 3, 5, 2, 1, 6], [7, 4, 3, 5, 1, 2, 6], [7, 4, 3, 1, 5, 2, 6], [7, 4, 3, 1, 5, 6, 2], [7, 4, 1, 3, 5, 6, 2], [7, 4, 1, 3, 6, 5, 2], [7, 4, 1, 3, 6, 2, 5], [7, 4, 1, 3, 2, 6, 5], [7, 4, 1, 3, 2, 5, 6], [7, 4, 1, 2, 3, 5, 6], [7, 4, 1, 2, 5, 3, 6], [7, 4, 1, 2, 5, 6, 3], [7, 4, 1, 2, 6, 5, 3], [7, 4, 1, 2, 6, 3, 5], [7, 4, 1, 6, 2, 3, 5], [7, 1, 4, 6, 2, 3, 5], [7, 1, 4, 6, 2, 5, 3], [7, 1, 4, 6, 5, 2, 3], [7, 1, 4, 6, 5, 3, 2], [7, 1, 4, 6, 3, 5, 2], [1, 7, 4, 6, 3, 5, 2], [1, 7, 4, 6, 3, 2, 5], [1, 7, 4, 3, 6, 2, 5], [1, 7, 4, 3, 2, 6, 5], [1, 7, 4, 3, 2, 5, 6], [1, 7, 4, 3, 5, 2, 6], [1, 7, 4, 3, 5, 6, 2], [1, 7, 4, 5, 3, 6, 2], [1, 7, 4, 5, 6, 3, 2], [1, 7, 4, 5, 6, 2, 3], [1, 7, 4, 5, 2, 6, 3], [1, 7, 4, 5, 2, 3, 6], [1, 7, 4, 2, 5, 3, 6], [1, 7, 2, 4, 5, 3, 6], [1, 7, 2, 4, 5, 6, 3], [1, 7, 2, 4, 6, 5, 3], [1, 7, 2, 4, 6, 3, 5], [1, 7, 2, 4, 3, 6, 5], [1, 7, 2, 3, 4, 6, 5], [1, 7, 2, 3, 4, 5, 6], [1, 7, 2, 3, 5, 4, 6], [1, 7, 2, 3, 5, 6, 4], [1, 7, 2, 3, 6, 5, 4], [1, 7, 2, 6, 3, 5, 4], [1, 7, 2, 6, 3, 4, 5], [1, 7, 6, 2, 3, 4, 5], [1, 7, 6, 2, 4, 3, 5], [1, 7, 6, 2, 4, 5, 3], [1, 7, 6, 2, 5, 4, 3], [1, 7, 6, 2, 5, 3, 4], [1, 7, 6, 5, 2, 3, 4], [1, 7, 6, 5, 3, 2, 4], [1, 7, 6, 5, 3, 4, 2], [1, 7, 6, 5, 4, 3, 2], [1, 7, 6, 5, 4, 2, 3], [1, 7, 6, 4, 5, 2, 3], [1, 6, 7, 4, 5, 2, 3], [1, 6, 7, 4, 5, 3, 2], [1, 6, 7, 4, 3, 5, 2], [1, 6, 7, 4, 3, 2, 5], [1, 6, 7, 4, 2, 3, 5], [1, 6, 4, 7, 2, 3, 5], [1, 6, 4, 7, 2, 5, 3], [1, 6, 4, 2, 7, 5, 3], [1, 6, 4, 2, 5, 7, 3], [1, 6, 4, 2, 5, 3, 7], [1, 6, 4, 2, 3, 5, 7], [1, 6, 4, 2, 3, 7, 5], [1, 6, 4, 3, 2, 7, 5], [1, 6, 4, 3, 7, 2, 5], [1, 6, 4, 3, 7, 5, 2], [1, 6, 4, 3, 5, 7, 2], [1, 6, 4, 3, 5, 2, 7], [1, 6, 4, 5, 3, 2, 7], [1, 6, 5, 4, 3, 2, 7], [1, 6, 5, 4, 3, 7, 2], [1, 6, 5, 4, 7, 3, 2], [1, 6, 5, 4, 7, 2, 3], [1, 6, 5, 4, 2, 7, 3], [1, 6, 5, 2, 4, 7, 3], [1, 6, 5, 2, 4, 3, 7], [1, 6, 5, 2, 3, 4, 7], [1, 6, 5, 2, 3, 7, 4], [1, 6, 5, 2, 7, 3, 4], [1, 6, 5, 7, 2, 3, 4], [1, 6, 5, 7, 2, 4, 3], [1, 6, 7, 5, 2, 4, 3], [6, 1, 7, 5, 2, 4, 3], [6, 1, 7, 5, 2, 3, 4], [6, 1, 7, 5, 3, 2, 4], [6, 1, 7, 5, 3, 4, 2], [6, 1, 7, 5, 4, 3, 2], [6, 1, 5, 7, 4, 3, 2], [6, 1, 5, 7, 4, 2, 3], [6, 5, 1, 7, 4, 2, 3], [6, 5, 1, 7, 2, 4, 3], [6, 5, 1, 7, 2, 3, 4], [6, 5, 1, 7, 3, 2, 4], [6, 5, 1, 7, 3, 4, 2], [6, 5, 1, 3, 7, 4, 2], [6, 5, 1, 3, 4, 7, 2], [6, 5, 1, 3, 4, 2, 7], [6, 5, 1, 3, 2, 4, 7], [6, 5, 1, 3, 2, 7, 4], [6, 5, 1, 2, 3, 7, 4], [6, 5, 2, 1, 3, 7, 4], [6, 5, 2, 1, 3, 4, 7], [6, 5, 2, 1, 4, 3, 7], [6, 5, 2, 1, 4, 7, 3], [6, 5, 2, 1, 7, 4, 3], [6, 5, 2, 7, 1, 4, 3], [6, 5, 2, 7, 1, 3, 4], [6, 5, 2, 7, 3, 1, 4], [6, 5, 2, 7, 3, 4, 1], [6, 5, 2, 7, 4, 3, 1], [6, 5, 2, 4, 7, 3, 1], [6, 5, 2, 4, 7, 1, 3], [6, 5, 4, 2, 7, 1, 3], [6, 5, 4, 2, 1, 7, 3], [6, 5, 4, 2, 1, 3, 7], [6, 5, 4, 2, 3, 1, 7], [6, 5, 4, 2, 3, 7, 1], [6, 5, 4, 3, 2, 7, 1], [6, 5, 4, 3, 7, 2, 1], [6, 5, 4, 3, 7, 1, 2], [6, 5, 4, 3, 1, 7, 2], [6, 5, 4, 3, 1, 2, 7], [6, 5, 4, 1, 3, 2, 7], [6, 4, 5, 1, 3, 2, 7], [6, 4, 5, 1, 3, 7, 2], [6, 4, 5, 1, 7, 3, 2], [6, 4, 5, 1, 7, 2, 3], [6, 4, 5, 1, 2, 7, 3], [6, 4, 1, 5, 2, 7, 3], [6, 4, 1, 5, 2, 3, 7], [6, 4, 1, 2, 5, 3, 7], [6, 4, 1, 2, 3, 5, 7], [6, 4, 1, 2, 3, 7, 5], [6, 4, 1, 2, 7, 3, 5], [6, 4, 1, 2, 7, 5, 3], [6, 4, 1, 7, 2, 5, 3], [6, 4, 1, 7, 5, 2, 3], [6, 4, 1, 7, 5, 3, 2], [6, 4, 1, 7, 3, 5, 2], [6, 4, 1, 7, 3, 2, 5], [6, 4, 1, 3, 7, 2, 5], [6, 4, 3, 1, 7, 2, 5], [6, 4, 3, 1, 7, 5, 2], [6, 4, 3, 1, 5, 7, 2], [6, 4, 3, 1, 5, 2, 7], [6, 4, 3, 1, 2, 5, 7], [6, 4, 3, 2, 1, 5, 7], [6, 4, 3, 2, 1, 7, 5], [6, 4, 3, 2, 7, 1, 5], [6, 4, 3, 2, 7, 5, 1], [6, 4, 3, 2, 5, 7, 1], [6, 4, 3, 5, 2, 7, 1], [6, 4, 3, 5, 2, 1, 7], [6, 4, 5, 3, 2, 1, 7], [4, 6, 5, 3, 2, 1, 7], [4, 6, 5, 3, 2, 7, 1], [4, 6, 5, 3, 7, 2, 1], [4, 6, 5, 3, 7, 1, 2], [4, 6, 5, 3, 1, 7, 2], [4, 6, 3, 5, 1, 7, 2], [4, 6, 3, 5, 1, 2, 7], [4, 3, 6, 5, 1, 2, 7], [4, 3, 6, 5, 2, 1, 7], [4, 3, 6, 5, 2, 7, 1], [4, 3, 6, 5, 7, 2, 1], [4, 3, 6, 5, 7, 1, 2], [4, 3, 6, 7, 5, 1, 2], [4, 3, 6, 7, 1, 5, 2], [4, 3, 6, 7, 1, 2, 5], [4, 3, 6, 7, 2, 1, 5], [4, 3, 6, 7, 2, 5, 1], [4, 3, 6, 2, 7, 5, 1], [4, 3, 2, 6, 7, 5, 1], [4, 3, 2, 6, 7, 1, 5], [4, 3, 2, 6, 1, 7, 5], [4, 3, 2, 6, 1, 5, 7], [4, 3, 2, 6, 5, 1, 7], [4, 3, 2, 5, 6, 1, 7], [4, 3, 2, 5, 6, 7, 1], [4, 3, 2, 5, 7, 6, 1], [4, 3, 2, 5, 7, 1, 6], [4, 3, 2, 5, 1, 7, 6], [4, 3, 2, 1, 5, 7, 6], [4, 3, 2, 1, 5, 6, 7], [4, 3, 1, 2, 5, 6, 7], [4, 3, 1, 2, 6, 5, 7], [4, 3, 1, 2, 6, 7, 5], [4, 3, 1, 2, 7, 6, 5], [4, 3, 1, 2, 7, 5, 6], [4, 3, 1, 7, 2, 5, 6], [4, 3, 1, 7, 5, 2, 6], [4, 3, 1, 7, 5, 6, 2], [4, 3, 1, 7, 6, 5, 2], [4, 3, 1, 7, 6, 2, 5], [4, 3, 1, 6, 7, 2, 5], [4, 1, 3, 6, 7, 2, 5], [4, 1, 3, 6, 7, 5, 2], [4, 1, 3, 6, 5, 7, 2], [4, 1, 3, 6, 5, 2, 7], [4, 1, 3, 6, 2, 5, 7], [4, 1, 6, 3, 2, 5, 7], [4, 1, 6, 3, 2, 7, 5], [4, 1, 6, 2, 3, 7, 5], [4, 1, 6, 2, 7, 3, 5], [4, 1, 6, 2, 7, 5, 3], [4, 1, 6, 2, 5, 7, 3], [4, 1, 6, 2, 5, 3, 7], [4, 1, 6, 5, 2, 3, 7], [4, 1, 6, 5, 3, 2, 7], [4, 1, 6, 5, 3, 7, 2], [4, 1, 6, 5, 7, 3, 2], [4, 1, 6, 5, 7, 2, 3], [4, 1, 6, 7, 5, 2, 3], [4, 1, 7, 6, 5, 2, 3], [4, 1, 7, 6, 5, 3, 2], [4, 1, 7, 6, 3, 5, 2], [4, 1, 7, 6, 3, 2, 5], [4, 1, 7, 6, 2, 3, 5], [4, 1, 7, 2, 6, 3, 5], [4, 1, 7, 2, 6, 5, 3], [4, 1, 7, 2, 5, 6, 3], [4, 1, 7, 2, 5, 3, 6], [4, 1, 7, 2, 3, 5, 6], [4, 1, 7, 3, 2, 5, 6], [4, 1, 7, 3, 2, 6, 5], [4, 1, 3, 7, 2, 6, 5], [1, 4, 3, 7, 2, 6, 5], [1, 4, 3, 7, 2, 5, 6], [1, 4, 3, 7, 5, 2, 6], [1, 4, 3, 7, 5, 6, 2], [1, 4, 3, 7, 6, 5, 2], [1, 3, 4, 7, 6, 5, 2], [1, 3, 4, 7, 6, 2, 5], [1, 3, 4, 6, 7, 2, 5], [1, 3, 4, 6, 2, 7, 5], [1, 3, 4, 6, 2, 5, 7], [1, 3, 4, 6, 5, 2, 7], [1, 3, 4, 6, 5, 7, 2], [1, 3, 4, 5, 6, 7, 2], [1, 3, 4, 5, 7, 6, 2], [1, 3, 4, 5, 7, 2, 6], [1, 3, 4, 5, 2, 7, 6], [1, 3, 4, 5, 2, 6, 7], [1, 3, 4, 2, 5, 6, 7], [1, 3, 2, 4, 5, 6, 7], [1, 2, 3, 4, 5, 6, 7]]\n"
     ]
    }
   ],
   "source": [
    "if __name__ == \"__main__\":\n",
    "    estado_inicial = [7, 6, 5, 4, 3, 2, 1]\n",
    "    solucion = [1, 2, 3, 4, 5, 6, 7]\n",
    "    nodo_solucion = bpa(estado_inicial, solucion)\n",
    "\n",
    "    # mostrar resultado\n",
    "    resultado = []\n",
    "    nodo_actual = nodo_solucion\n",
    "    while nodo_actual.get_padre() is not None:\n",
    "        resultado.append(nodo_actual.get_datos())\n",
    "        nodo_actual = nodo_actual.get_padre()\n",
    "\n",
    "    resultado.append(estado_inicial)\n",
    "    resultado.reverse()\n",
    "    print(resultado)"
   ]
  },
  {
   "cell_type": "code",
   "execution_count": 5,
   "id": "dbe6be16",
   "metadata": {},
   "outputs": [
    {
     "data": {
      "text/plain": [
       "3"
      ]
     },
     "execution_count": 5,
     "metadata": {},
     "output_type": "execute_result"
    }
   ],
   "source": [
    "[1,2,3].pop()"
   ]
  }
 ],
 "metadata": {
  "kernelspec": {
   "display_name": "Python 3.10.7 64-bit",
   "language": "python",
   "name": "python3"
  },
  "language_info": {
   "codemirror_mode": {
    "name": "ipython",
    "version": 3
   },
   "file_extension": ".py",
   "mimetype": "text/x-python",
   "name": "python",
   "nbconvert_exporter": "python",
   "pygments_lexer": "ipython3",
   "version": "3.10.7"
  },
  "vscode": {
   "interpreter": {
    "hash": "ad05a59107f0e5641141d3724f3277e7d0dac6a3429a83f7586878d01cb69bca"
   }
  }
 },
 "nbformat": 4,
 "nbformat_minor": 5
}
