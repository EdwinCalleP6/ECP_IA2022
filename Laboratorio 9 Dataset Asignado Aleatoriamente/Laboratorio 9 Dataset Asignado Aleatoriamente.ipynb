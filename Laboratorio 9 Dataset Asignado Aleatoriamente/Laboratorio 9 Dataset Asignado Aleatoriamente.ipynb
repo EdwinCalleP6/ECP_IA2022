{
 "cells": [
  {
   "cell_type": "markdown",
   "metadata": {},
   "source": [
    "### Nombre: Calle Perez Edwin\n",
    "### Laboratorio 9\n",
    "### Sis 420"
   ]
  },
  {
   "cell_type": "markdown",
   "metadata": {
    "id": "tfwOfkjclHQx"
   },
   "source": [
    "# Ejercicio de programación Regresión Lineal Multiple"
   ]
  },
  {
   "cell_type": "code",
   "execution_count": 19,
   "metadata": {
    "id": "f0WGMMljlHQz"
   },
   "outputs": [],
   "source": [
    "# utilizado para manejos de directorios y rutas\n",
    "import os\n",
    "\n",
    "# Computacion vectorial y cientifica para python\n",
    "import numpy as np\n",
    "\n",
    "# Librerias para graficación (trazado de gráficos)\n",
    "from matplotlib import pyplot\n",
    "from mpl_toolkits.mplot3d import Axes3D  # Necesario para graficar superficies 3D\n",
    "\n",
    "# llama a matplotlib a embeber graficas dentro de los cuadernillos\n",
    "%matplotlib inline"
   ]
  },
  {
   "cell_type": "markdown",
   "metadata": {
    "id": "G6-ykOwelHQ0"
   },
   "source": [
    "## 2 Regresión lineal con multiples variables\n",
    "\n",
    "Se implementa la regresion lineal multivariable para predecir el precio de las casas. El archivo `Datasets/ex1data2.txt` contiene un conjunto de entrenamiento de precios de casas en Portland, Oregon. La primera columna es el tamaño de la casa en metros cuadrados, la segunda columna es el numero de cuartos, y la tercera columna es el precio de la casa. \n",
    "\n",
    "<a id=\"section4\"></a>\n",
    "### 2.1 Normalización de caracteristicas\n",
    "\n",
    "Al visualizar los datos se puede observar que las caracteristicas tienen diferentes magnitudes, por lo cual se debe transformar cada valor en una escala de valores similares, esto con el fin de que el descenso por el gradiente pueda converger mas rapidamente."
   ]
  },
  {
   "cell_type": "code",
   "execution_count": 20,
   "metadata": {
    "colab": {
     "base_uri": "https://localhost:8080/"
    },
    "id": "6BP5grkxlHQ0",
    "outputId": "cb736fc0-30c8-42a7-a21e-08ad0c106e2d"
   },
   "outputs": [
    {
     "name": "stdout",
     "output_type": "stream",
     "text": [
      "[[2.0150101e+07 2.7300000e+01 2.3900000e+01 3.2500000e+01 0.0000000e+00\n",
      "  0.0000000e+00]\n",
      " [2.0150102e+07 2.7020000e+01 2.4500000e+01 3.3500000e+01 0.0000000e+00\n",
      "  0.0000000e+00]\n",
      " [2.0150103e+07 2.4820000e+01 2.2400000e+01 2.9900000e+01 0.0000000e+00\n",
      "  1.0000000e+00]\n",
      " ...\n",
      " [2.0151229e+07 2.1680000e+01 2.0300000e+01 2.4100000e+01 1.0300000e+01\n",
      "  0.0000000e+00]\n",
      " [2.0151230e+07 2.1380000e+01 1.9300000e+01 2.2400000e+01 6.3000000e+00\n",
      "  0.0000000e+00]\n",
      " [2.0151231e+07 2.4760000e+01 2.0200000e+01 2.9000000e+01 0.0000000e+00\n",
      "  0.0000000e+00]]\n",
      "[25461. 28972. 30814. 29799. 28900. 28218. 29732. 28397. 24886. 37937.\n",
      " 36254. 25743. 26990. 31825. 25724. 29938. 37690. 30524. 29265. 35127.\n",
      " 29130. 25795. 21784. 28348. 31088. 21520. 29972. 22603. 22696. 26845.\n",
      " 27030. 32057. 24097. 31655. 24738. 19950. 22821. 28893. 29926. 24062.\n",
      " 21137. 26805. 26389. 24219. 30231. 24968. 25343. 17399. 21392. 22922.\n",
      " 24567. 30943. 30825. 25692. 26959. 25366. 22784. 26241. 26467. 27475.\n",
      " 28749. 24146. 22988. 30300. 22654. 29090. 24619. 20016. 23042. 22933.\n",
      " 22409. 21281. 28844. 32872. 20903. 26275. 20167. 23628. 24213. 28631.\n",
      " 25855. 21406. 21617. 22401. 27989. 24974. 29760. 26116. 25850. 24925.\n",
      " 21979. 22116. 24867. 33450. 32713. 22356. 21004. 23362. 20298. 24862.\n",
      " 30505. 25070. 22620. 22001. 23469. 21735. 21593. 33822. 28028. 24304.\n",
      " 31108. 19113. 23198. 24388. 27420. 30479. 21838. 20812. 19761. 20452.\n",
      " 17939. 25272. 28049. 25317. 21826. 20680. 19143. 18146. 25489. 23537.\n",
      " 16956. 19052. 17287. 20300. 20538. 23702. 28411. 21073. 24215. 19525.\n",
      " 20786. 20429. 27250. 31387. 26075. 22162. 24258. 24683. 21245. 25937.\n",
      " 26081. 16228. 20106. 21055. 22772. 25142. 31129. 30498. 26150. 21327.\n",
      " 22008. 24615. 22375. 29607. 32983. 19119. 21029. 23898. 24534. 16748.\n",
      " 23055. 28857. 23022. 27146. 17241. 19463. 21860. 24227. 27594. 24863.\n",
      " 20161. 20824. 19727. 14940. 24632. 21294. 18448. 21237. 19849. 20740.\n",
      " 25698. 26691. 33298. 25640. 23937. 28742. 21748. 22032. 24827. 32473.\n",
      " 20620. 21825. 14343. 19029. 21104. 20738. 25233. 18975. 19640. 22522.\n",
      " 24227. 24726. 32467. 31663. 25867. 27724. 22039. 26127. 26580. 31310.\n",
      " 33517. 23181. 24183. 24594. 22610. 25479. 29621. 26272. 22541. 23070.\n",
      " 26021. 17655. 23243. 30177. 27518. 23210. 21092. 23357. 17888. 22217.\n",
      " 31681. 31833. 28441. 22389. 20681. 24222. 19345. 21827. 23566. 20227.\n",
      " 17075. 16977. 21525. 21454. 21814. 21252. 20464. 30775. 25343. 33930.\n",
      " 26311. 31836. 34695. 29829. 26362. 32589. 30345. 29411. 29637. 32184.\n",
      " 17731. 24114. 28034. 22664. 27488. 24876. 24862. 24679. 22304. 30329.\n",
      " 33182. 23849. 33330. 34496. 26249. 26523. 26793. 35861. 27387. 32666.\n",
      " 22199. 24000. 27871. 31139. 23065. 26594. 27657. 26594. 28084. 27582.\n",
      " 24862. 22634. 31649. 35781. 24429. 20648. 22741. 21479. 23134. 20575.\n",
      " 24330. 28610. 28456. 27964. 29569. 29267. 28647. 26836. 29386. 24609.\n",
      " 26964. 23614. 22960. 20332. 30392. 31933. 21662. 21689. 25119. 25285.\n",
      " 28979. 34382. 30617. 20238. 24529. 30471. 28405. 29513. 32451. 32780.\n",
      " 23375. 27713. 27137. 22933. 30740. 29579. 29188. 28131. 28617. 21062.\n",
      " 24337. 27042. 32536. 30127. 24834. 26828. 26468. 31572. 26308. 21955.\n",
      " 32307. 26095. 22309. 20467. 22446.]\n",
      "365\n"
     ]
    }
   ],
   "source": [
    "# Cargar datos\n",
    "data = np.loadtxt(os.path.join('Datasets', 'Consumo_cerveja.csv'), delimiter=',')\n",
    "X = data[:, :6]\n",
    "y = data[:, 6]\n",
    "m = y.size\n",
    "\n",
    "# imprimir algunos puntos de datos\n",
    "#print('{:>8s}{:>8s}{:>10s}'.format('X[:,0]', 'X[:, 1]', 'y'))\n",
    "#print('-'*26)\n",
    "#for i in range(10):\n",
    "#    print('{:8.0f}{:8.0f}{:10.0f}'.format(X[i, 0], X[i, 1], y[i]))\n",
    "#print(y)\n",
    "print(X)\n",
    "print(y)\n",
    "print(m)"
   ]
  },
  {
   "cell_type": "markdown",
   "metadata": {
    "id": "7iU_3mwZlHQ1"
   },
   "source": [
    "La desviación estándar es una forma de medir cuánta variación hay en el rango de valores de una característica en particular (la mayoría de los puntos caeran en un rango de ± 2 en relación a la desviaciones estándar de la media); esta es una alternativa a tomar el rango de valores (max-min). En `numpy`, se puede usar la función `std` para calcular la desviacion estandar. \n",
    "\n",
    "Por ejemplo, la caracteristica`X[:, 0]` contiene todos los valores de $x_1$ (tamaño de las casas) en el conjunto de entrenamiento, entonces `np.std(X[:, 0])` calcula la desviacion estandar de los tamaños de las casas.\n",
    "En el momento en que se llama a la función `featureNormalize`, la columna adicional de unos correspondiente a $ x_0 = 1 $ aún no se ha agregado a $ X $. \n",
    "\n",
    "<div class=\"alert alert-block alert-warning\">\n",
    "**Notas para la implementación:** Cuando se normalize una caracteristica, es importante almacenar los valores usados para la normalización - el valor de la media y el valor de la desviación estandar usado para los calculos. Despues de aprender los parametros del modelo, se deseara predecir los precios de casas que no se han visto antes. Dado un nuevo valor de x (area del living room y el numero de dormitorios), primero se debe normalizar x usando la media y la desviacion estandar que se empleo anteriormente en el conjunto de entrenamiento para entrenar el modelo.\n",
    "</div>\n",
    "<a id=\"featureNormalize\"></a>"
   ]
  },
  {
   "cell_type": "code",
   "execution_count": 21,
   "metadata": {
    "id": "7xFD8H3WlHQ1"
   },
   "outputs": [],
   "source": [
    "def  featureNormalize(X):\n",
    "    X_norm = X.copy()\n",
    "    mu = np.zeros(X.shape[1])\n",
    "    sigma = np.zeros(X.shape[1])\n",
    "    print(\"---\")\n",
    "    print(mu)\n",
    "    print(\"---\")\n",
    "    mu = np.mean(X, axis = 0)\n",
    "    sigma = np.std(X, axis = 0)\n",
    "    X_norm = (X - mu) / sigma\n",
    "    \n",
    "    return X_norm, mu, sigma"
   ]
  },
  {
   "cell_type": "code",
   "execution_count": 22,
   "metadata": {
    "colab": {
     "base_uri": "https://localhost:8080/"
    },
    "id": "ipL_QsTZlHQ2",
    "outputId": "6110febe-33ec-48d6-e2ef-9920af15a5e9"
   },
   "outputs": [
    {
     "name": "stdout",
     "output_type": "stream",
     "text": [
      "---\n",
      "[0. 0. 0. 0. 0. 0.]\n",
      "---\n",
      "[[2.0150101e+07 2.7300000e+01 2.3900000e+01 3.2500000e+01 0.0000000e+00\n",
      "  0.0000000e+00]\n",
      " [2.0150102e+07 2.7020000e+01 2.4500000e+01 3.3500000e+01 0.0000000e+00\n",
      "  0.0000000e+00]\n",
      " [2.0150103e+07 2.4820000e+01 2.2400000e+01 2.9900000e+01 0.0000000e+00\n",
      "  1.0000000e+00]\n",
      " ...\n",
      " [2.0151229e+07 2.1680000e+01 2.0300000e+01 2.4100000e+01 1.0300000e+01\n",
      "  0.0000000e+00]\n",
      " [2.0151230e+07 2.1380000e+01 1.9300000e+01 2.2400000e+01 6.3000000e+00\n",
      "  0.0000000e+00]\n",
      " [2.0151231e+07 2.4760000e+01 2.0200000e+01 2.9000000e+01 0.0000000e+00\n",
      "  0.0000000e+00]]\n",
      "Media calculada: [2.01506683e+07 2.12263562e+01 1.74613699e+01 2.66115068e+01\n",
      " 5.19671233e+00 2.84931507e-01]\n",
      "Desviación estandar calculada: [345.00188545   3.17574837   2.82231097   4.31144754  12.40082145\n",
      "   0.45138182]\n",
      "[[-1.64440634  1.9125079   2.28133264  1.365781   -0.41906194 -0.63124277]\n",
      " [-1.6415078   1.8243397   2.49392438  1.59772167 -0.41906194 -0.63124277]\n",
      " [-1.63860927  1.1315896   1.74985329  0.76273528 -0.41906194  1.58417656]\n",
      " ...\n",
      " [ 1.62514101  0.14284628  1.0057822  -0.58252056  0.4115282  -0.63124277]\n",
      " [ 1.62803954  0.04838036  0.65146263 -0.97681969  0.08896892 -0.63124277]\n",
      " [ 1.63093808  1.11269642  0.97035024  0.55398868 -0.41906194 -0.63124277]]\n"
     ]
    }
   ],
   "source": [
    "# llama featureNormalize con los datos cargados\n",
    "X_norm, mu, sigma = featureNormalize(X)\n",
    "\n",
    "print(X)\n",
    "print('Media calculada:', mu)\n",
    "print('Desviación estandar calculada:', sigma)\n",
    "print(X_norm)"
   ]
  },
  {
   "cell_type": "markdown",
   "metadata": {
    "id": "it9bMYuLlHQ2"
   },
   "source": [
    "Despues de `featureNormalize` la funcion es provada, se añade el temino de interseccion a `X_norm`:"
   ]
  },
  {
   "cell_type": "code",
   "execution_count": 23,
   "metadata": {
    "id": "nNaGVxgolHQ2"
   },
   "outputs": [],
   "source": [
    "# Añade el termino de interseccion a X\n",
    "# (Columna de unos para X0)\n",
    "X = np.concatenate([np.ones((m, 1)), X_norm], axis=1)"
   ]
  },
  {
   "cell_type": "code",
   "execution_count": 24,
   "metadata": {
    "colab": {
     "base_uri": "https://localhost:8080/"
    },
    "id": "nbUVohnhlHQ3",
    "outputId": "e4c8efc0-bbe0-4f23-d42c-ba431ea20603"
   },
   "outputs": [
    {
     "name": "stdout",
     "output_type": "stream",
     "text": [
      "[[ 1.         -1.64440634  1.9125079  ...  1.365781   -0.41906194\n",
      "  -0.63124277]\n",
      " [ 1.         -1.6415078   1.8243397  ...  1.59772167 -0.41906194\n",
      "  -0.63124277]\n",
      " [ 1.         -1.63860927  1.1315896  ...  0.76273528 -0.41906194\n",
      "   1.58417656]\n",
      " ...\n",
      " [ 1.          1.62514101  0.14284628 ... -0.58252056  0.4115282\n",
      "  -0.63124277]\n",
      " [ 1.          1.62803954  0.04838036 ... -0.97681969  0.08896892\n",
      "  -0.63124277]\n",
      " [ 1.          1.63093808  1.11269642 ...  0.55398868 -0.41906194\n",
      "  -0.63124277]]\n"
     ]
    }
   ],
   "source": [
    "print(X)"
   ]
  },
  {
   "cell_type": "markdown",
   "metadata": {
    "id": "xzLiIE6NlHQ3"
   },
   "source": [
    "<a id=\"section5\"></a>\n",
    "### 2.2 Descenso por el gradiente\n",
    "\n",
    "En el ejemplo anterior se implemento el descenso por el gradiente para un problema de regresion univariable. La unica diferencia es que ahora existe una caracteristica adicional en la matriz $X$. La función de hipótesis y la regla de actualización del descenso del gradiente por lotes permanecen sin cambios.\n",
    "\n",
    "La implementacion de las funciones `computeCostMulti` y `gradientDescentMulti` son similares a la funcion de costo y función de descenso por el gradiente de la regresión lineal multiple es similar al de la regresion lineal multivariable. Es importante garantizar que el codigo soporte cualquier numero de caracteristicas y esten bien vectorizadas.\n",
    "\n",
    "Se puede utilizar `shape`, propiedad de los arrays `numpy`, para identificar cuantas caracteristicas estan consideradas en el dataset.\n",
    "\n",
    "<div class=\"alert alert-block alert-warning\">\n",
    "**Nota de implementación:** En el caso de multivariables, la función de costo puede se escrita considerando la forma vectorizada de la siguiente manera:\n",
    "\n",
    "$$ J(\\theta) = \\frac{1}{2m}(X\\theta - \\vec{y})^T(X\\theta - \\vec{y}) $$\n",
    "\n",
    "donde:\n",
    "\n",
    "$$ X = \\begin{pmatrix}\n",
    "          - (x^{(1)})^T - \\\\\n",
    "          - (x^{(2)})^T - \\\\\n",
    "          \\vdots \\\\\n",
    "          - (x^{(m)})^T - \\\\ \\\\\n",
    "        \\end{pmatrix} \\qquad \\mathbf{y} = \\begin{bmatrix} y^{(1)} \\\\ y^{(2)} \\\\ \\vdots \\\\ y^{(m)} \\\\\\end{bmatrix}$$\n",
    "\n",
    "La version vectorizada es eficiente cuando se trabaja con herramientas de calculo numericos computacional como `numpy`. \n",
    "</div>\n",
    "\n",
    "<a id=\"computeCostMulti\"></a>"
   ]
  },
  {
   "cell_type": "code",
   "execution_count": 25,
   "metadata": {
    "id": "EQCMN7KqlHQ3"
   },
   "outputs": [],
   "source": [
    "def computeCostMulti(X, y, theta):\n",
    "    # Inicializa algunos valores utiles\n",
    "    m = y.shape[0] # numero de ejemplos de entrenamiento\n",
    "    \n",
    "    J = 0\n",
    "    \n",
    "    h = np.dot(X, theta)\n",
    "    \n",
    "    J = (1/(2 * m)) * np.sum(np.square(np.dot(X, theta) - y))\n",
    "    \n",
    "    return J\n"
   ]
  },
  {
   "cell_type": "code",
   "execution_count": 26,
   "metadata": {
    "id": "Vdy_aQUklHQ4"
   },
   "outputs": [],
   "source": [
    "def gradientDescentMulti(X, y, theta, alpha, num_iters):\n",
    "    \n",
    "    # Inicializa algunos valores \n",
    "    m = y.shape[0] # numero de ejemplos de entrenamiento\n",
    "    \n",
    "    # realiza una copia de theta, el cual será acutalizada por el descenso por el gradiente\n",
    "    theta = theta.copy()\n",
    "    \n",
    "    J_history = []\n",
    "    \n",
    "    for i in range(num_iters):\n",
    "        theta = theta - (alpha / m) * (np.dot(X, theta) - y).dot(X)\n",
    "        J_history.append(computeCostMulti(X, y, theta))\n",
    "    \n",
    "    return theta, J_history"
   ]
  },
  {
   "cell_type": "markdown",
   "metadata": {
    "id": "a8b_GwZslHQ4"
   },
   "source": [
    "#### 3.2.1 Seleccionando coheficientes de aprendizaje\n"
   ]
  },
  {
   "cell_type": "code",
   "execution_count": 27,
   "metadata": {
    "colab": {
     "base_uri": "https://localhost:8080/",
     "height": 342
    },
    "id": "sId0DiH9lHQ4",
    "outputId": "0806d03a-be03-4386-f864-4c31fb5a358b"
   },
   "outputs": [
    {
     "name": "stdout",
     "output_type": "stream",
     "text": [
      "theta calculado por el descenso por el gradiente: [25361.28440654   424.54509511   954.03222143  -183.82907661\n",
      "  2095.74266551  -768.39526177  2346.05445292]\n",
      "Litros de cerveza Consumido: 34096\n"
     ]
    },
    {
     "data": {
      "image/png": "[encoded data removed]",
      "text/plain": [
       "<Figure size 432x288 with 1 Axes>"
      ]
     },
     "metadata": {
      "needs_background": "light"
     },
     "output_type": "display_data"
    }
   ],
   "source": [
    "# Elegir algun valor para alpha (probar varias alternativas)\n",
    "\n",
    "alpha = 0.0005 # alpha = 0.003\n",
    "num_iters = 12900\n",
    "#alpha = 0.0004 # alpha = 0.003\n",
    "#num_iters = 90900\n",
    "# inicializa theta y ejecuta el descenso por el gradiente\n",
    "theta = np.zeros(7)\n",
    "theta, J_history = gradientDescentMulti(X, y, theta, alpha, num_iters)\n",
    "\n",
    "# Grafica la convergencia del costo\n",
    "pyplot.plot(np.arange(len(J_history)), J_history, lw=2)\n",
    "pyplot.xlabel('Numero de iteraciones')\n",
    "pyplot.ylabel('Costo J')\n",
    "\n",
    "# Muestra los resultados del descenso por el gradiente\n",
    "print('theta calculado por el descenso por el gradiente: {:s}'.format(str(theta)))\n",
    "\n",
    "# Estimar la cantidad de litros consumidos de cerveza ,datos 20150111 con una temperatura de \"27.62\",\"22.2\",\"34.8\",\n",
    "# y con una precipitacion de 3.4 y fin de semana valor 1.\n",
    "\n",
    "X_array = [1,20150111,27.62,22.2,34.8,3.4,1]\n",
    "X_array[1:7] = (X_array[1:7] - mu) / sigma\n",
    "price = np.dot(X_array, theta)   # Se debe cambiar esto\n",
    "\n",
    "print('Litros de cerveza Consumido: {:.0f}'.format(price))\n"
   ]
  },
  {
   "cell_type": "code",
   "execution_count": 28,
   "metadata": {
    "id": "y0aZhWEqlHQ4"
   },
   "outputs": [],
   "source": [
    "X_array = [1,20150111,27.62,22.2,34.8,3.4,1]\n",
    "X_array[1:7] = (X_array[1:7] - mu) / sigma"
   ]
  },
  {
   "cell_type": "code",
   "execution_count": 29,
   "metadata": {
    "colab": {
     "base_uri": "https://localhost:8080/"
    },
    "id": "KZ4G9CbJlHQ4",
    "outputId": "ec2aff98-4d92-4c38-b80d-721de47b02a4"
   },
   "outputs": [
    {
     "data": {
      "text/plain": [
       "[-1.6154209909360684,\n",
       " 2.0132715504007193,\n",
       " 1.6789893760756032,\n",
       " 1.8992445270142255,\n",
       " -0.14488655733990222,\n",
       " 1.5841765635860734]"
      ]
     },
     "execution_count": 29,
     "metadata": {},
     "output_type": "execute_result"
    }
   ],
   "source": [
    "X_array[1:7]"
   ]
  },
  {
   "cell_type": "markdown",
   "metadata": {
    "id": "-nMzqD8elHQ4"
   },
   "source": [
    "<a id=\"section7\"></a>\n",
    "### 2.3 Ecuacion de la Normal\n",
    "\n",
    "Una manera de calcular rapidamente el modelo de una regresion lineal es:\n",
    "\n",
    "$$ \\theta = \\left( X^T X\\right)^{-1} X^T\\vec{y}$$\n",
    "\n",
    "Utilizando esta formula no requiere que se escale ninguna caracteristica, y se obtendra una solucion exacta con un solo calculo: no hay “bucles de convergencia” como en el descenso por el gradiente. \n",
    "\n",
    "Primero se recargan los datos para garantizar que las variables no esten modificadas. Recordar que no es necesario escalar las caracteristicas, se debe agregar la columna de unos a la matriz $X$ para tener el termino de intersección($\\theta_0$). "
   ]
  },
  {
   "cell_type": "code",
   "execution_count": 30,
   "metadata": {
    "id": "C6j77JNmlHQ5"
   },
   "outputs": [],
   "source": [
    "# Cargar datos\n",
    "data = np.loadtxt(os.path.join('Datasets', 'Consumo_cerveja.csv'), delimiter=',')\n",
    "X = data[:, :6]\n",
    "y = data[:, 6]\n",
    "m = y.size\n",
    "X = np.concatenate([np.ones((m, 1)), X], axis=1)"
   ]
  },
  {
   "cell_type": "code",
   "execution_count": 31,
   "metadata": {
    "id": "gVZdjjk9lHQ5"
   },
   "outputs": [],
   "source": [
    "def normalEqn(X, y):\n",
    "  \n",
    "    theta = np.zeros(X.shape[1])\n",
    "    \n",
    "    theta = np.dot(np.dot(np.linalg.inv(np.dot(X.T,X)),X.T),y)\n",
    "    \n",
    "    return theta"
   ]
  },
  {
   "cell_type": "code",
   "execution_count": 32,
   "metadata": {
    "colab": {
     "base_uri": "https://localhost:8080/"
    },
    "id": "Ybyw-FfolHQ5",
    "outputId": "dde31ad7-2f82-4aa1-d4ea-f1e84e647221"
   },
   "outputs": [
    {
     "name": "stdout",
     "output_type": "stream",
     "text": [
      "Theta calculado a partir de la ecuación de la normal: [-2.49064675e+07  1.23631312e+00 -3.20421098e+01  4.75040702e+01\n",
      "  6.76630650e+02 -5.84580096e+01  5.19947694e+03]\n",
      "Litros de cerveza: 34096\n"
     ]
    }
   ],
   "source": [
    "# Calcula los parametros con la ecuación de la normal\n",
    "theta = normalEqn(X, y);\n",
    "\n",
    "# Muestra los resultados optenidos a partir de la aplicación de la ecuación de la normal\n",
    "print('Theta calculado a partir de la ecuación de la normal: {:s}'.format(str(theta)));\n",
    "\n",
    "\n",
    "X_array = [1,20150111,27.62,22.2,34.8,3.4,1]\n",
    "price = np.dot(X_array, theta) \n",
    "\n",
    "print('Litros de cerveza: {:.0f}'.format(price))"
   ]
  },
  {
   "cell_type": "code",
   "execution_count": null,
   "metadata": {},
   "outputs": [],
   "source": []
  },
  {
   "cell_type": "code",
   "execution_count": null,
   "metadata": {},
   "outputs": [],
   "source": []
  },
  {
   "cell_type": "code",
   "execution_count": null,
   "metadata": {},
   "outputs": [],
   "source": []
  },
  {
   "cell_type": "code",
   "execution_count": null,
   "metadata": {},
   "outputs": [],
   "source": []
  }
 ],
 "metadata": {
  "colab": {
   "collapsed_sections": [],
   "name": "reg_lin_mul_01.ipynb",
   "provenance": []
  },
  "kernelspec": {
   "display_name": "Python 3 (ipykernel)",
   "language": "python",
   "name": "python3"
  },
  "language_info": {
   "codemirror_mode": {
    "name": "ipython",
    "version": 3
   },
   "file_extension": ".py",
   "mimetype": "text/x-python",
   "name": "python",
   "nbconvert_exporter": "python",
   "pygments_lexer": "ipython3",
   "version": "3.9.12"
  }
 },
 "nbformat": 4,
 "nbformat_minor": 1
}
