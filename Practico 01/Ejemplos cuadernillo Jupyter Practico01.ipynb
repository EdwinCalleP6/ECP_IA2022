{
 "cells": [
  {
   "cell_type": "markdown",
   "id": "97b6d9a0",
   "metadata": {},
   "source": [
    "<h2> Hola mundo Jupyter</h2>\n"
   ]
  },
  {
   "cell_type": "code",
   "execution_count": 18,
   "id": "cb67998b",
   "metadata": {},
   "outputs": [
    {
     "name": "stdout",
     "output_type": "stream",
     "text": [
      "Hola mundo jupyter !!\n"
     ]
    }
   ],
   "source": [
    "h_mundo='Hola mundo jupyter'\n",
    "print(h_mundo,'!!')"
   ]
  },
  {
   "cell_type": "code",
   "execution_count": 19,
   "id": "d09080db",
   "metadata": {},
   "outputs": [
    {
     "name": "stdout",
     "output_type": "stream",
     "text": [
      "suma de 54 + 46 = 100\n"
     ]
    }
   ],
   "source": [
    "a=54\n",
    "b=46\n",
    "c=a+b\n",
    "print('suma de',a,'+',b,'=',c )"
   ]
  },
  {
   "cell_type": "markdown",
   "id": "62739e18",
   "metadata": {},
   "source": [
    "<h3>Listas </h3>"
   ]
  },
  {
   "cell_type": "code",
   "execution_count": 24,
   "id": "975393cd",
   "metadata": {},
   "outputs": [
    {
     "name": "stdout",
     "output_type": "stream",
     "text": [
      "['Edwin', 'Calle Perez', 'Ing. De Sistemas', 'SIS420']\n",
      "-----------------\n",
      "Edwin Calle Perez\n",
      "SIS420\n"
     ]
    }
   ],
   "source": [
    "mi_informacion=['Edwin','Calle Perez','Ing. De Sistemas','SIS420']\n",
    "print(mi_informacion)\n",
    "print('---------------------------------')\n",
    "print(mi_informacion[0],mi_informacion[1])\n",
    "print(mi_informacion[3])"
   ]
  },
  {
   "cell_type": "code",
   "execution_count": 52,
   "id": "17f840e8",
   "metadata": {},
   "outputs": [
    {
     "name": "stdout",
     "output_type": "stream",
     "text": [
      "('nombre', 'apellido', 'carrera', 'materia')\n",
      "CARRERA: ('nombre', 'apellido')\n",
      "CARRERA: ('apellido', 'carrera', 'materia')\n",
      "nombre y carrera !!!!\n"
     ]
    }
   ],
   "source": [
    "datos=('nombre','apellido','carrera','materia')\n",
    "print(datos)\n",
    "print('CARRERA:',datos[:2])\n",
    "print('CARRERA:',datos[1:])\n",
    "print(datos[0],'y',datos[2],'!!!!')\n"
   ]
  },
  {
   "cell_type": "markdown",
   "id": "6081747c",
   "metadata": {},
   "source": [
    "<h3>Diccionario</h3>"
   ]
  },
  {
   "cell_type": "code",
   "execution_count": 53,
   "id": "52f3e763",
   "metadata": {},
   "outputs": [
    {
     "name": "stdout",
     "output_type": "stream",
     "text": [
      "{'nombre': 'Edwin', 'Apellido': 'Calle Perez', 'carrera': 'Ing. De Sistemas', 'materia': 'SIS420'}\n",
      "NOMBRE y Apellido : Edwin Calle Perez\n",
      "MATERIA: SIS420\n"
     ]
    }
   ],
   "source": [
    "mis_datos={'nombre':'Edwin','Apellido':'Calle Perez','carrera':'Ing. De Sistemas','materia':'SIS420'}\n",
    "print(mis_datos)\n",
    "print('NOMBRE y Apellido :',mis_datos['nombre'],mis_datos['Apellido'])\n",
    "print('MATERIA:',mis_datos['materia'])\n"
   ]
  },
  {
   "cell_type": "code",
   "execution_count": 114,
   "id": "847daa2f",
   "metadata": {},
   "outputs": [
    {
     "name": "stdout",
     "output_type": "stream",
     "text": [
      "{'nombre': 'Edwin', 'Apellido': 'Calle Perez', 'carrera': 'Ing. De Sistemas', 'materia': 'SIS420', 'color': 'rojo', 'objeto': 'mochila', 'material': 'cuero', 'altura': 'mediano'}\n"
     ]
    }
   ],
   "source": [
    "descripcion={'color':'rojo','objeto':'mochila','material':'cuero','altura':'mediano'}\n",
    "mis_datos.update(descripcion)\n",
    "print(mis_datos)"
   ]
  },
  {
   "cell_type": "code",
   "execution_count": null,
   "id": "49c4cbff",
   "metadata": {},
   "outputs": [],
   "source": []
  },
  {
   "cell_type": "markdown",
   "id": "73766535",
   "metadata": {},
   "source": [
    "<h4>.isnumeric()</h4>"
   ]
  },
  {
   "cell_type": "code",
   "execution_count": 72,
   "id": "2f2852ce",
   "metadata": {},
   "outputs": [
    {
     "name": "stdout",
     "output_type": "stream",
     "text": [
      "esta informacion es un numero?\n",
      " mause : False\n",
      "esta informacion es un numero?\n",
      " 14 : True\n"
     ]
    }
   ],
   "source": [
    "cadena=['mause','pc','monitor','case','14','3000']\n",
    "print('esta informacion es un numero?\\n',cadena[0],':',cadena[0].isnumeric())\n",
    "print('esta informacion es un numero?\\n',cadena[4],':',cadena[4].isnumeric())"
   ]
  },
  {
   "cell_type": "markdown",
   "id": "2c92f54f",
   "metadata": {},
   "source": [
    "<h4>.split</h4>"
   ]
  },
  {
   "cell_type": "code",
   "execution_count": 97,
   "id": "4e64b0e9",
   "metadata": {},
   "outputs": [
    {
     "name": "stdout",
     "output_type": "stream",
     "text": [
      "['Edwin', 'Calle', 'Perez']\n"
     ]
    }
   ],
   "source": [
    "mi_nombre='Edwin Calle Perez'\n",
    "lista_n=mi_nombre.split()\n",
    "print(lista_n)"
   ]
  },
  {
   "cell_type": "code",
   "execution_count": 86,
   "id": "b25703f6",
   "metadata": {},
   "outputs": [
    {
     "name": "stdout",
     "output_type": "stream",
     "text": [
      "['Edwin Call', ' P', 'r', 'z']\n"
     ]
    }
   ],
   "source": [
    "print(mi_nombre.split('e'))"
   ]
  },
  {
   "cell_type": "code",
   "execution_count": 94,
   "id": "93538b94",
   "metadata": {},
   "outputs": [
    {
     "name": "stdout",
     "output_type": "stream",
     "text": [
      "Edwin Calle\n"
     ]
    }
   ],
   "source": [
    "print(mi_nombre[0:11])"
   ]
  },
  {
   "cell_type": "markdown",
   "id": "8829ffdd",
   "metadata": {},
   "source": [
    "<h4>.find()</4>"
   ]
  },
  {
   "cell_type": "code",
   "execution_count": 95,
   "id": "11ac7144",
   "metadata": {},
   "outputs": [
    {
     "name": "stdout",
     "output_type": "stream",
     "text": [
      "4\n"
     ]
    }
   ],
   "source": [
    "print(mi_nombre.find(\"n\"))"
   ]
  },
  {
   "cell_type": "markdown",
   "id": "9a7de8c9",
   "metadata": {},
   "source": [
    "<h3>tuple()</h3>"
   ]
  },
  {
   "cell_type": "code",
   "execution_count": 101,
   "id": "47c1e040",
   "metadata": {},
   "outputs": [
    {
     "name": "stdout",
     "output_type": "stream",
     "text": [
      "('E', 'd', 'w', 'i', 'n', ' ', 'C', 'a', 'l', 'l', 'e', ' ', 'P', 'e', 'r', 'e', 'z')\n"
     ]
    }
   ],
   "source": [
    "n=tuple(mi_nombre)\n",
    "print(n)"
   ]
  },
  {
   "cell_type": "code",
   "execution_count": 103,
   "id": "702dd9e5",
   "metadata": {},
   "outputs": [
    {
     "name": "stdout",
     "output_type": "stream",
     "text": [
      "['E', 'd', 'w', 'i', 'n', ' ', 'C', 'a', 'l', 'l', 'e', ' ', 'P', 'e', 'r', 'e', 'z']\n"
     ]
    }
   ],
   "source": [
    "l=list(n)\n",
    "print(l)"
   ]
  },
  {
   "cell_type": "code",
   "execution_count": 111,
   "id": "299e0ad0",
   "metadata": {},
   "outputs": [
    {
     "name": "stdout",
     "output_type": "stream",
     "text": [
      "['edwin', 'calle', 'Perez']\n",
      "['edwin', 'calle', 'Perez', 'ing. sistemas']\n"
     ]
    }
   ],
   "source": [
    "nombre=['edwin']\n",
    "apellidos=['calle','Perez']\n",
    "carrera=['ing. sistemas']\n",
    "nombre_completo=nombre+apellidos\n",
    "print(nombre_completo)\n",
    "nombre_completo+=carrera\n",
    "print(nombre_completo)"
   ]
  },
  {
   "cell_type": "code",
   "execution_count": null,
   "id": "37d5f4d9",
   "metadata": {},
   "outputs": [],
   "source": []
  }
 ],
 "metadata": {
  "kernelspec": {
   "display_name": "Python 3 (ipykernel)",
   "language": "python",
   "name": "python3"
  },
  "language_info": {
   "codemirror_mode": {
    "name": "ipython",
    "version": 3
   },
   "file_extension": ".py",
   "mimetype": "text/x-python",
   "name": "python",
   "nbconvert_exporter": "python",
   "pygments_lexer": "ipython3",
   "version": "3.9.12"
  }
 },
 "nbformat": 4,
 "nbformat_minor": 5
}
