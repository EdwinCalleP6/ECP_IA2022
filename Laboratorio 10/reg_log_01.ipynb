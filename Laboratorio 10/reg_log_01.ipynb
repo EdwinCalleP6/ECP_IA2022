{
 "cells": [
  {
   "cell_type": "markdown",
   "metadata": {
    "id": "Js_ap72LH0jB"
   },
   "source": [
    "# Ejercicion de programación - Regresión Logistica\n",
    "\n",
    "En este ejercicio se implementa regresion logistica y se aplica a dos diferentes datasets."
   ]
  },
  {
   "cell_type": "code",
   "execution_count": 1,
   "metadata": {
    "id": "w4WeW3nFH0jk"
   },
   "outputs": [],
   "source": [
    "# se utiliza para el manejo de rutas y directorios.\n",
    "import os\n",
    "\n",
    "# Calculo cientifico y vectorial para python\n",
    "import numpy as np\n",
    "import pandas as pd\n",
    "\n",
    "# Librerias para graficar\n",
    "from matplotlib import pyplot\n",
    "\n",
    "# Modulo de optimización de scipy\n",
    "from scipy import optimize\n",
    "\n",
    "# le dice a matplotlib que incruste gráficos en el cuaderno\n",
    "%matplotlib inline"
   ]
  },
  {
   "cell_type": "markdown",
   "metadata": {
    "id": "7xnOrU7yH0ju"
   },
   "source": [
    "## 1 Regresion Logistica\n",
    "\n",
    "En esta parte del ejercicio, creará un modelo de regresión logística para predecir si un estudiante será admitido en una universidad. Suponga que es el administrador de un departamento universitario y desea determinar las posibilidades de admisión de cada solicitante en función de sus resultados en dos exámenes. Tiene datos históricos de solicitantes anteriores que puede usar como un conjunto de capacitación para la regresión logística. Para cada ejemplo de capacitación, se tiene las calificaciones del solicitante en dos exámenes y la decisión de admisión. Su tarea es crear un modelo de clasificación que calcule la probabilidad de admisión de un solicitante en función de los puntajes de esos dos exámenes.\n",
    "\n",
    "La siguiente celda cargará los datos y las etiquetas correspondientes:"
   ]
  },
  {
   "cell_type": "code",
   "execution_count": 2,
   "metadata": {
    "colab": {
     "base_uri": "https://localhost:8080/"
    },
    "id": "DVoc2h3hH0jy",
    "outputId": "5559dcd0-7eef-424a-8344-fea06263d57c"
   },
   "outputs": [
    {
     "name": "stdout",
     "output_type": "stream",
     "text": [
      "[[2.8000e+01 1.0000e+00 1.0000e+00 ... 1.0000e+00 0.0000e+00 8.6750e+04]\n",
      " [5.0000e+01 2.0000e+00 1.0000e+00 ... 2.0000e+00 1.0000e+00 4.2419e+04]\n",
      " [4.3000e+01 2.0000e+00 1.0000e+00 ... 2.0000e+00 0.0000e+00 6.5715e+04]\n",
      " ...\n",
      " [3.4000e+01 5.0000e+00 0.0000e+00 ... 2.0000e+00 0.0000e+00 2.4076e+04]\n",
      " [2.6000e+01 2.0000e+00 0.0000e+00 ... 1.0000e+00 1.0000e+00 2.9805e+04]\n",
      " [2.6000e+01 2.0000e+00 0.0000e+00 ... 3.0000e+00 0.0000e+00 4.2419e+04]]\n",
      "[1. 0. 0. 1. 1. 1. 0. 0. 1. 0. 1. 1. 0. 1. 1. 1. 0. 1. 1. 1. 1. 1. 1. 1.\n",
      " 0. 0. 1. 0. 0. 1. 0. 1. 1. 1. 1. 1. 0. 1. 0. 1. 1. 1. 0. 1. 1. 1. 1. 0.\n",
      " 1. 0. 1. 0. 0. 1. 1. 0. 1. 1. 1. 0. 1. 1. 1. 0. 1. 0. 1. 0. 1. 1. 0. 0.\n",
      " 0. 1. 1. 1. 1. 0. 1. 1. 1. 1. 1. 1. 1. 0. 1. 1. 1. 1. 0. 0. 0. 0. 0. 0.\n",
      " 1. 0. 0. 1. 0. 1. 1. 0. 1. 0. 0. 1. 1. 0. 1. 1. 0. 0. 1. 0. 0. 0. 0. 0.\n",
      " 0. 0. 1. 0. 1. 1. 1. 0. 0. 1. 0. 1. 0. 0. 1. 1. 1. 0. 1. 0. 0. 0. 1. 1.\n",
      " 1. 0. 0. 1. 0. 0. 1. 1. 1. 0. 0. 0. 0. 0. 1. 0. 0. 0. 1. 1. 1. 0. 1. 1.\n",
      " 1. 0. 1. 0. 0. 1. 0. 1. 0. 1. 1. 1. 0. 1. 0. 1. 0. 0. 1. 1. 1. 1. 1. 0.\n",
      " 1. 1. 0. 1. 1. 0. 1. 1. 1. 0. 1. 0. 1. 0. 1. 0. 0. 0. 0. 0. 0. 1. 1. 0.\n",
      " 0. 0. 0. 1. 0. 1. 1. 0. 0. 1. 1. 0. 0. 0. 1. 1. 0. 1. 1. 0. 0. 1. 1. 0.\n",
      " 0. 0. 0. 0. 1. 1. 1. 1. 0. 0. 0. 1. 1. 1. 0. 1. 0. 0. 0. 0. 0. 0. 1. 0.\n",
      " 0. 1. 0. 1. 1. 1. 0. 0. 1. 0. 0. 1. 1. 0. 1. 1. 1. 0. 0. 0. 1. 0. 1. 0.\n",
      " 0. 1. 0. 1. 0. 0. 1. 1. 1. 0. 0. 0. 1. 1. 1. 0. 0. 1. 0. 1. 0. 0. 1. 0.\n",
      " 0. 1. 1. 0. 1. 0. 1. 0. 0. 1. 0. 0. 1. 1. 0. 1. 1. 0. 0. 1. 1. 1. 0. 0.\n",
      " 0. 0. 0. 0. 0. 1. 1. 0. 0. 0. 1. 0. 1. 1. 1. 1. 1. 0. 0. 1. 0. 1. 1. 0.\n",
      " 0. 0. 0. 0. 1. 0. 0. 0. 1. 0. 1. 0. 0. 1. 0. 0. 1. 0. 1. 1. 1. 1. 1. 0.\n",
      " 0. 0. 1. 1. 1. 1. 0. 0. 1. 1. 0. 1. 1. 1. 0. 0. 1. 0. 1. 1. 0. 1. 1. 0.\n",
      " 1. 1. 1. 0. 1. 0. 1. 1. 1. 1. 0. 0. 1. 1. 1. 1. 1. 1. 1. 1. 0. 0. 0. 1.\n",
      " 1. 1. 0. 1. 0. 1. 0. 0. 0. 1. 0. 1. 1. 1. 1. 1. 0. 1. 1. 1. 1. 1. 0. 0.\n",
      " 1. 0. 0. 1. 0. 1. 0. 0. 0. 1. 0. 0. 1. 1. 0. 1. 0. 0. 1. 1. 1. 0. 1. 0.\n",
      " 1. 0. 1. 0. 1. 0. 1. 1. 0. 1. 0. 0. 1. 0. 1. 1. 0. 1. 0. 0.]\n"
     ]
    }
   ],
   "source": [
    "# Cargar datos\n",
    "# Las columnas de X contienen caracteristicas de una persona en su empleo\n",
    "#  Y contiene la etiqueta que indica si la persona esta satisfecho con su empleo.\n",
    "data = np.loadtxt(os.path.join( 'Employee Satisfaction Indexo.csv'), delimiter=',')\n",
    "X, y = data[:, 0:11], data[:, 11]\n",
    "print(X)\n",
    "print(y)"
   ]
  },
  {
   "cell_type": "code",
   "execution_count": 3,
   "metadata": {
    "id": "KvVaLKc6O4zo"
   },
   "outputs": [],
   "source": [
    "def  featureNormalize(X):\n",
    "    X_norm = X.copy()\n",
    "    mu = np.zeros(X.shape[1])\n",
    "    sigma = np.zeros(X.shape[1])\n",
    "    print(\"---\")\n",
    "    print(mu)\n",
    "    print(\"---\")\n",
    "    mu = np.mean(X, axis = 0)\n",
    "    sigma = np.std(X, axis = 0)\n",
    "    X_norm = (X - mu) / sigma\n",
    "    \n",
    "    return X_norm, mu, sigma"
   ]
  },
  {
   "cell_type": "code",
   "execution_count": 4,
   "metadata": {
    "colab": {
     "base_uri": "https://localhost:8080/"
    },
    "id": "lSM5cSOWPC_B",
    "outputId": "48690c80-7147-4ab6-e6dc-0a1c1fe5a592"
   },
   "outputs": [
    {
     "name": "stdout",
     "output_type": "stream",
     "text": [
      "---\n",
      "[0. 0. 0. 0. 0. 0. 0. 0. 0. 0. 0.]\n",
      "---\n",
      "[[2.8000e+01 1.0000e+00 1.0000e+00 ... 1.0000e+00 0.0000e+00 8.6750e+04]\n",
      " [5.0000e+01 2.0000e+00 1.0000e+00 ... 2.0000e+00 1.0000e+00 4.2419e+04]\n",
      " [4.3000e+01 2.0000e+00 1.0000e+00 ... 2.0000e+00 0.0000e+00 6.5715e+04]\n",
      " ...\n",
      " [3.4000e+01 5.0000e+00 0.0000e+00 ... 2.0000e+00 0.0000e+00 2.4076e+04]\n",
      " [2.6000e+01 2.0000e+00 0.0000e+00 ... 1.0000e+00 1.0000e+00 2.9805e+04]\n",
      " [2.6000e+01 2.0000e+00 0.0000e+00 ... 3.0000e+00 0.0000e+00 4.2419e+04]]\n",
      "Media calculada: [3.8610000e+01 2.9780000e+00 4.8200000e-01 5.0800000e-01 2.4360000e+00\n",
      " 3.0320000e+00 3.0720000e+00 4.6600000e-01 4.5380000e+00 4.9600000e-01\n",
      " 5.0416056e+04]\n",
      "Desviación estandar calculada: [9.42920463e+00 1.42180027e+00 4.99675895e-01 4.99935996e-01\n",
      " 1.09631382e+00 1.42231361e+00 1.42366288e+00 4.98842661e-01\n",
      " 2.85036068e+00 4.99984000e-01 2.36477094e+04]\n",
      "[[-1.12522746 -1.391194    1.03667198 ... -1.24124642 -0.99203175\n",
      "   1.5364678 ]\n",
      " [ 1.20794918 -0.68786033  1.03667198 ... -0.89041363  1.00803226\n",
      "  -0.33817466]\n",
      " [ 0.46557479 -0.68786033  1.03667198 ... -0.89041363 -0.99203175\n",
      "   0.64695247]\n",
      " ...\n",
      " [-0.48890656  1.42214068 -0.96462528 ... -0.89041363 -0.99203175\n",
      "  -1.11385232]\n",
      " [-1.33733443 -0.68786033 -0.96462528 ... -1.24124642  1.00803226\n",
      "  -0.87158784]\n",
      " [-1.33733443 -0.68786033 -0.96462528 ... -0.53958084 -0.99203175\n",
      "  -0.33817466]]\n"
     ]
    }
   ],
   "source": [
    "# llama featureNormalize con los datos cargados\n",
    "X_norm, mu, sigma = featureNormalize(X)\n",
    "\n",
    "print(X)\n",
    "print('Media calculada:', mu)\n",
    "print('Desviación estandar calculada:', sigma)\n",
    "print(X_norm)"
   ]
  },
  {
   "cell_type": "markdown",
   "metadata": {
    "id": "9G5dMb5qH0j4"
   },
   "source": [
    "### 1.1 Visualizar los datos\n",
    "\n",
    "Antes de comenzar a implementar cualquier algoritmo de aprendizaje, siempre es bueno visualizar los datos si es posible. Mostramos los datos en una gráfica bidimensional llamando a la función `plotData`. Se completará el código en `plotData` para que muestre una figura donde los ejes son los dos puntajes de los dos examenes, los ejemplos positivos y negativos se muestran con diferentes marcadores."
   ]
  },
  {
   "cell_type": "code",
   "execution_count": 5,
   "metadata": {
    "id": "0TgxYK6SH0j7"
   },
   "outputs": [],
   "source": [
    "def plotData(X, y):\n",
    "    # Gragica los puntos de datos X y y en una nueva figura. Grafica los puntos de datos con * para los positivos y \n",
    "    # o para los negativos.\n",
    "    \n",
    "    # Crea una nueva figura\n",
    "    fig = pyplot.figure()\n",
    "\n",
    "    # Find Indices of Positive and Negative Examples\n",
    "    pos = y == 1\n",
    "    neg = y == 0\n",
    "\n",
    "    # Plot Examples\n",
    "    pyplot.plot(X[pos, 0], X[pos, 1], 'k*', lw=2, ms=10)\n",
    "    pyplot.plot(X[neg, 0], X[neg, 1], 'ko', mfc='y', ms=8, mec='k', mew=1)\n",
    "    "
   ]
  },
  {
   "cell_type": "markdown",
   "metadata": {
    "id": "TtxEz8V3H0j-"
   },
   "source": [
    "Se llama a la función implementada para mostrar los datos cargados:"
   ]
  },
  {
   "cell_type": "code",
   "execution_count": 6,
   "metadata": {
    "colab": {
     "base_uri": "https://localhost:8080/",
     "height": 265
    },
    "id": "I4Z7HD7yH0kA",
    "outputId": "02fa85ee-879a-4900-bb03-c106bce97cfc"
   },
   "outputs": [
    {
     "data": {
      "image/png": "[encoded data removed]",
      "text/plain": [
       "<Figure size 432x288 with 1 Axes>"
      ]
     },
     "metadata": {
      "needs_background": "light"
     },
     "output_type": "display_data"
    }
   ],
   "source": [
    "plotData(X, y)\n",
    "# adiciona etiquetas para los ejes\n",
    "pyplot.xlabel('')\n",
    "pyplot.ylabel('')\n",
    "pyplot.legend(['Satisfecho', 'No Satisfecho'])\n",
    "pass"
   ]
  },
  {
   "cell_type": "markdown",
   "metadata": {
    "id": "0Fr_HfjBH0kE"
   },
   "source": [
    "<a id=\"section1\"></a>\n",
    "### 1.2 Implementacion\n",
    "\n",
    "#### 1.2.1 Fución Sigmoidea\n",
    "\n",
    "La hipotesis para la regresión logistica se define como:\n",
    "\n",
    "$$ h_\\theta(x) = g(\\theta^T x)$$\n",
    "\n",
    "donde la función $g$ is la función sigmoidea. La función sigmoidea se define como: \n",
    "\n",
    "$$g(z) = \\frac{1}{1+e^{-z}}$$.\n",
    "\n",
    "Los resultados que debe generar la funcion sigmoidea para valores positivos amplios de `x`, deben ser cercanos a 1, mientras que para valores negativos grandes, la sigmoide debe generar valores cercanos 0. La evaluacion de `sigmoid(0)` debe dar un resultado exacto de 0.5. Esta funcion tambien debe poder trabajar con vectores y matrices."
   ]
  },
  {
   "cell_type": "code",
   "execution_count": 7,
   "metadata": {
    "id": "DJQQ_vCeH0kI"
   },
   "outputs": [],
   "source": [
    "def sigmoid(z):\n",
    "    # Calcula la sigmoide de una entrada z\n",
    "    # convierte la intrada a un arreglo numpy\n",
    "    z = np.array(z)\n",
    "  \n",
    "    g = np.zeros(z.shape)\n",
    "\n",
    "    g = 1 / (1 + np.exp(-z))\n",
    "\n",
    "    return g"
   ]
  },
  {
   "cell_type": "markdown",
   "metadata": {
    "id": "8qYj9ALwH0kK"
   },
   "source": [
    "Se calcula el valor de la sigmoide aplicando la funcion sigmoid con `z=0`, se debe obtener un resultado de 0.5. RE recomienda experimentar con otros valores de `z`."
   ]
  },
  {
   "cell_type": "code",
   "execution_count": 8,
   "metadata": {
    "colab": {
     "base_uri": "https://localhost:8080/"
    },
    "id": "0B1XIJlPH0kM",
    "outputId": "40a8a9e5-59d9-485b-daf7-872f1bbb7506"
   },
   "outputs": [
    {
     "name": "stdout",
     "output_type": "stream",
     "text": [
      "g( 0 ) =  0.5\n"
     ]
    }
   ],
   "source": [
    "# Prueba la implementacion de la funcion sigmoid\n",
    "z = 0\n",
    "g = sigmoid(z)\n",
    "\n",
    "print('g(', z, ') = ', g)"
   ]
  },
  {
   "cell_type": "markdown",
   "metadata": {
    "id": "cxgQuCfPH0kN"
   },
   "source": [
    "<a id=\"section2\"></a>\n",
    "#### 1.2.2 Función de Costo y Gradiente\n",
    "\n",
    "Se implementa la funcion cost y gradient, para la regresión logistica. Antes de continuar es importante agregar el termino de intercepcion a X. "
   ]
  },
  {
   "cell_type": "code",
   "execution_count": 9,
   "metadata": {
    "colab": {
     "base_uri": "https://localhost:8080/"
    },
    "id": "KPj7iC43H0kP",
    "outputId": "e4d3972c-8f8f-4970-fef5-15b9ff240140"
   },
   "outputs": [
    {
     "name": "stdout",
     "output_type": "stream",
     "text": [
      "[ 1.          0.14741434  0.71880701  1.03667198 -1.01613007 -1.30984392\n",
      " -0.02249855 -0.05057377 -0.93416229  0.86375034  1.00803226 -0.33817466]\n"
     ]
    }
   ],
   "source": [
    "# Configurar la matriz adecuadamente, y agregar una columna de unos que corresponde al termino de intercepción. \n",
    "#m, n = X.shape\n",
    "m, n = X_norm.shape\n",
    "# Agraga el termino de intercepción a A\n",
    "X = np.concatenate([np.ones((m, 1)), X_norm], axis=1)\n",
    "\n",
    "print(X[5])"
   ]
  },
  {
   "cell_type": "markdown",
   "metadata": {
    "id": "BytU8ffIH0kS"
   },
   "source": [
    "La funcion de costo en una regresión logistica es:\n",
    "\n",
    "$$ J(\\theta) = \\frac{1}{m} \\sum_{i=1}^{m} \\left[ -y^{(i)} \\log\\left(h_\\theta\\left( x^{(i)} \\right) \\right) - \\left( 1 - y^{(i)}\\right) \\log \\left( 1 - h_\\theta\\left( x^{(i)} \\right) \\right) \\right]$$\n",
    "\n",
    "y el gradiente del costo es un vector de la misma longitud como $\\theta$ donde el elemento $j^{th}$ (para $j = 0, 1, \\cdots , n$) se define como:\n",
    "\n",
    "$$ \\frac{\\partial J(\\theta)}{\\partial \\theta_j} = \\frac{1}{m} \\sum_{i=1}^m \\left( h_\\theta \\left( x^{(i)} \\right) - y^{(i)} \\right) x_j^{(i)} $$\n",
    "\n",
    "Si bien este gradiente parece idéntico al gradiente de regresión lineal, la fórmula es diferente porque la regresión lineal y logística tienen diferentes definiciones de $h_\\theta(x)$.\n",
    "<a id=\"costFunction\"></a>"
   ]
  },
  {
   "cell_type": "code",
   "execution_count": 10,
   "metadata": {
    "id": "k4Xk99dNH0kT"
   },
   "outputs": [],
   "source": [
    "def calcularCosto(theta, X, y):\n",
    "    # Inicializar algunos valores utiles\n",
    "    m = y.size  # numero de ejemplos de entrenamiento\n",
    "\n",
    "    J = 0\n",
    "    h = sigmoid(X.dot(theta.T))\n",
    "    J = (1 / m) * np.sum(-y.dot(np.log(h)) - (1 - y).dot(np.log(1 - h)))\n",
    "    \n",
    "    return J"
   ]
  },
  {
   "cell_type": "code",
   "execution_count": 11,
   "metadata": {
    "id": "AI-LxLZ9H0kW"
   },
   "outputs": [],
   "source": [
    "def descensoGradiente(theta, X, y, alpha, num_iters):\n",
    "    # Inicializa algunos valores\n",
    "    m = y.shape[0] # numero de ejemplos de entrenamiento\n",
    "    \n",
    "    # realiza una copia de theta, el cual será acutalizada por el descenso por el gradiente\n",
    "    theta = theta.copy()\n",
    "    J_history = []\n",
    "    \n",
    "    for i in range(num_iters):\n",
    "        h = sigmoid(X.dot(theta.T))\n",
    "        theta = theta - (alpha / m) * (h - y).dot(X)\n",
    "       \n",
    "        J_history.append(calcularCosto(theta, X, y))\n",
    "    return theta, J_history"
   ]
  },
  {
   "cell_type": "code",
   "execution_count": 12,
   "metadata": {
    "colab": {
     "base_uri": "https://localhost:8080/",
     "height": 331
    },
    "id": "SiVFurCFH0kZ",
    "outputId": "c1327e36-ee08-454d-9306-ddf18e393bd6",
    "scrolled": true
   },
   "outputs": [
    {
     "name": "stdout",
     "output_type": "stream",
     "text": [
      "theta calculado por el descenso por el gradiente: [ 0.0613568   0.01085097 -0.01245871 -0.03489187  0.03655078  0.02809583\n",
      "  0.00084621  0.10830895  0.03351339  0.0140236  -0.01298642  0.02433458]\n",
      "resultado : 1.0\n"
     ]
    },
    {
     "data": {
      "image/png": "[encoded data removed]",
      "text/plain": [
       "<Figure size 432x288 with 1 Axes>"
      ]
     },
     "metadata": {
      "needs_background": "light"
     },
     "output_type": "display_data"
    }
   ],
   "source": [
    "# Elegir algun valor para alpha (probar varias alternativas)\n",
    "alpha = 0.0002\n",
    "num_iters = 17800\n",
    "\n",
    "# inicializa theta y ejecuta el descenso por el gradiente\n",
    "theta = np.zeros(12)\n",
    "theta, J_history = descensoGradiente(theta, X, y, alpha, num_iters)\n",
    "\n",
    "# Grafica la convergencia del costo\n",
    "pyplot.plot(np.arange(len(J_history)), J_history, lw=2)\n",
    "pyplot.xlabel('Numero de iteraciones')\n",
    "pyplot.ylabel('Costo J')\n",
    "\n",
    "# Muestra los resultados del descenso por el gradiente\n",
    "print('theta calculado por el descenso por el gradiente: {:s}'.format(str(theta)))\n",
    "\n",
    "# verificar si ingresa o no a la universidad\n",
    "\n",
    "X_array = [1,33,3,0,1,3,4,4,1,3,1,65715]\n",
    "aprueba = sigmoid(np.dot(X_array, theta))   # Se debe cambiar esto\n",
    "print(f\"resultado : {aprueba}\")\n",
    "#print(f\"Un estudiante con nota del examen 1: {X_array[1]} y nota del examen 2: {X_array[2]} (usando el descenso por el gradiente):{aprueba}\")"
   ]
  },
  {
   "cell_type": "code",
   "execution_count": 13,
   "metadata": {
    "id": "ZA1kjqFfH0kb"
   },
   "outputs": [],
   "source": [
    "def costFunction(theta, X, y):\n",
    "    # Inicializar algunos valores utiles\n",
    "    m = y.size  # numero de ejemplos de entrenamiento\n",
    "\n",
    "    J = 0\n",
    "    grad = np.zeros(theta.shape)\n",
    "\n",
    "    h = sigmoid(X.dot(theta.T))\n",
    "    \n",
    "    J = (1 / m) * np.sum(-y.dot(np.log(h)) - (1 - y).dot(np.log(1 - h)))\n",
    "    grad = (1 / m) * (h - y).dot(X)\n",
    "    \n",
    "    return J, grad"
   ]
  },
  {
   "cell_type": "markdown",
   "metadata": {
    "id": "ccbJdMuRH0kd"
   },
   "source": [
    "Se prueba la funcion `costFunction` utilizando dos casos de prueba para $\\theta$."
   ]
  },
  {
   "cell_type": "code",
   "execution_count": 14,
   "metadata": {
    "colab": {
     "base_uri": "https://localhost:8080/"
    },
    "id": "Tu_D-CxFH0kf",
    "outputId": "5f74085e-be9f-43bf-a855-784456eaab4d"
   },
   "outputs": [
    {
     "name": "stdout",
     "output_type": "stream",
     "text": [
      "[0. 0. 0. 0. 0. 0. 0. 0. 0. 0. 0. 0.]\n",
      "Costo en theta inicial (zeros): 0.693\n",
      "[-0.026      -0.00224197  0.00452103  0.01507377 -0.01358574 -0.01337573\n",
      " -0.00503968 -0.0464492  -0.01379994 -0.0073717   0.00579219 -0.01156816]\n",
      "Gradiente en theta inicial (zeros):\n",
      "\t[-0.0260, -0.0022, 0.0045]\n"
     ]
    }
   ],
   "source": [
    "# Inicializacion de parametros de ajuste\n",
    "initial_theta = np.zeros(n+1)\n",
    "print(initial_theta)\n",
    "cost, grad = costFunction(initial_theta, X, y)\n",
    "\n",
    "print('Costo en theta inicial (zeros): {:.3f}'.format(cost))\n",
    "#print('Costo esperado (aproximado): 0.693\\n')\n",
    "print(grad)\n",
    "print('Gradiente en theta inicial (zeros):')\n",
    "print('\\t[{:.4f}, {:.4f}, {:.4f}]'.format(*grad))\n",
    "#print('Gradiente esperado (aproximado):\\n\\t[-0.1000, -12.0092, -11.2628]\\n')\n",
    "\n"
   ]
  },
  {
   "cell_type": "code",
   "execution_count": 15,
   "metadata": {
    "colab": {
     "base_uri": "https://localhost:8080/"
    },
    "id": "q2l9P_k_H0kj",
    "outputId": "96441aae-7f4c-4702-d204-8e19e1e09df1"
   },
   "outputs": [
    {
     "name": "stdout",
     "output_type": "stream",
     "text": [
      "[-24.    0.2   0.2   0.2   0.2   0.2   0.2   0.2   0.2   0.2   0.2   0.2]\n",
      "Costo en theta prueba: 12.606\n",
      "Gradiente en theta prueba:\n",
      "\t[-0.526, -0.002, 0.005]\n"
     ]
    }
   ],
   "source": [
    "# Calcula y muestra el costo y el gradiente con valores de theta diferentes a cero\n",
    "\n",
    "test_theta = np.array([-24, 0.2, 0.2,0.2,0.2,0.2,0.2,0.2,0.2,0.2,0.2,0.2])\n",
    "#test_theta = np.array([-11.74749157, 0.09927308, 0.09316497])\n",
    "print(test_theta)\n",
    "cost, grad = costFunction(test_theta, X, y)\n",
    "\n",
    "print('Costo en theta prueba: {:.3f}'.format(cost))\n",
    "#print('Costo esperado (aproximado): 0.218\\n')\n",
    "\n",
    "print('Gradiente en theta prueba:')\n",
    "print('\\t[{:.3f}, {:.3f}, {:.3f}]'.format(*grad))\n",
    "#print('Gradiente esperado (aproximado):\\n\\t[0.043, 2.566, 2.647]')"
   ]
  },
  {
   "cell_type": "markdown",
   "metadata": {
    "id": "rRS65FB0H0km"
   },
   "source": [
    "#### 1.2.3 Parámetros de aprendizaje usando `scipy.optimize`\n",
    "\n",
    "En el codigo anterior se encontró los parámetros óptimos de un modelo de regresión lineal al implementar el descenso de gradiente. Se implemento una función de costo y se calculó su gradiente, utilizando el algoritmo del descenso por el gradiente.\n",
    "\n",
    "En lugar de realizar los pasos del descenso por el gradiente, se utilizará el [módulo `scipy.optimize`] (https://docs.scipy.org/doc/scipy/reference/optimize.html). SciPy es una biblioteca de computación numérica para `python`. Proporciona un módulo de optimización para la búsqueda y minimización de raíces. A partir de `scipy 1.0`, la función` scipy.optimize.minimize` es el método a utilizar para problemas de optimización (tanto restringidos como no restringidos).\n",
    "\n",
    "For logistic regression, you want to optimize the cost function $J(\\theta)$ with parameters $\\theta$.\n",
    "Concretely, you are going to use `optimize.minimize` to find the best parameters $\\theta$ for the logistic regression cost function, given a fixed dataset (of X and y values). You will pass to `optimize.minimize` the following inputs:\n",
    "\n",
    "Para la regresión logística, se desea optimizar la función de costo $J(\\theta)$ con los parámetros $\\theta$.\n",
    "Concretamente, se va a utilizar `optimize.minimize` para encontrar los mejores parámetros $\\theta$ para la función de costo de regresión logística, dado un dataset fijo (de valores X e y). Se pasara a `optimize.minimize` las siguientes entradas:\n",
    "\n",
    "- `costFunction`: Una función de costo que, cuando se le da el dataset de entrenamiento y un $\\theta$ particular, calcula el costo de regresión logística y el gradiente con respecto a $\\theta$ para el dataset(X, y). Es importante tener en cuenta que solo se pasa el nombre de la función sin el paréntesis. Esto indica que solo proporcionamos una referencia a esta función y no evaluamos el resultado de esta función.\n",
    "- `initial_theta`: Los valores iniciales de los parametros que se tratan de optimizar.\n",
    "- `(X, y)`: Estos son argumentos adicionales a la funcion de costo.\n",
    "- `jac`: Indicación si la función de costo devuelve el jacobiano (gradiente) junto con el valor de costo. (True)\n",
    "- `method`: Método / algoritmo de optimización a utilizar\n",
    "- `options`: Opciones adicionales que pueden ser específicas del método de optimización específico. Solo se indica al algoritmo el número máximo de iteraciones antes de que termine.\n",
    "\n",
    "Si se ha completado la `costFunction` correctamente,`optimize.minimize` convergerá en los parámetros de optimización correctos y devolverá los valores finales del costo y $\\theta$ en un objeto de clase.\n",
    "\n",
    "Al usar `optimize.minimize`, no se tuvo que escribir ningún bucle ni establecer una tasa de aprendizaje como se hizo para el descenso de gradientes. Todo esto se hace mediante `optimize.minimize`: solo se necesita proporcionar una función que calcule el costo y el gradiente.\n",
    "\n",
    "A continuación, se tiene el código para llamar a `optimize.minimize` con los argumentos correctos."
   ]
  },
  {
   "cell_type": "code",
   "execution_count": 16,
   "metadata": {
    "colab": {
     "base_uri": "https://localhost:8080/"
    },
    "id": "5eZi7YRnH0kp",
    "outputId": "00459d91-84e9-43a7-da9a-fbb81d142eaf",
    "scrolled": true
   },
   "outputs": [
    {
     "name": "stdout",
     "output_type": "stream",
     "text": [
      "Costo con un valor de theta encontrado por optimize.minimize: 0.683\n",
      "Costo esperado (aproximado): 0.203\n",
      "\n",
      "theta:\n",
      "\t[0.106, 0.028, -0.032]\n",
      "Theta esperado (aproximado):\n",
      "\t[-25.161, 0.206, 0.201]\n"
     ]
    }
   ],
   "source": [
    "# Establecer las opciones para optimize.minimize\n",
    "options= {'maxiter': 1000}\n",
    "\n",
    "# revisar la documentacion de scipy's optimize.minimize para mayor descripcion de los parametros\n",
    "# La funcion devuekve un objeto `OptimizeResult`\n",
    "# Se utiliza el algoritmo de Newton truncado para la optimización.\n",
    "res = optimize.minimize(costFunction,\n",
    "                        initial_theta,\n",
    "                        (X, y),\n",
    "                        jac=True,\n",
    "                        method='TNC',\n",
    "                        options=options)\n",
    "\n",
    "# la propiedad fun del objeto devuelto por `OptimizeResult`\n",
    "# contiene el valor del costFunction de un theta optimizado\n",
    "cost = res.fun\n",
    "\n",
    "# Theta optimizada esta en la propiedad x\n",
    "theta = res.x\n",
    "\n",
    "# Imprimir theta en la pantalla\n",
    "print('Costo con un valor de theta encontrado por optimize.minimize: {:.3f}'.format(cost))\n",
    "print('Costo esperado (aproximado): 0.203\\n');\n",
    "\n",
    "print('theta:')\n",
    "print('\\t[{:.3f}, {:.3f}, {:.3f}]'.format(*theta))\n",
    "print('Theta esperado (aproximado):\\n\\t[-25.161, 0.206, 0.201]')"
   ]
  },
  {
   "cell_type": "markdown",
   "metadata": {
    "id": "p3WMizaKH0kr"
   },
   "source": [
    "Una vez que se completa `optimize.minimize`, se usa el valor final de $\\theta$ para visualizar el límite de decisión en los datos de entrenamiento.\n",
    "\n",
    "Para hacerlo, se implementa la función `plotDecisionBoundary` para trazar el límite de decisión sobre los datos de entrenamiento."
   ]
  },
  {
   "cell_type": "code",
   "execution_count": 17,
   "metadata": {
    "id": "t-8k0WCyH0ks"
   },
   "outputs": [],
   "source": [
    "def plotDecisionBoundary(plotData, theta, X, y):\n",
    "    \"\"\"\n",
    "    Grafica los puntos X y Y en una nueva figura con un limite de desicion definido por theta.\n",
    "    the data points X and y into a new figure with the decision boundary defined by theta.\n",
    "    Grafica los puntos con * para los ejemplos positivos y con o para los ejemplos negativos.\n",
    "    \n",
    "    Parametros:\n",
    "    ----------\n",
    "    plotData : func\n",
    "        A function reference for plotting the X, y data.\n",
    "\n",
    "    theta : array_like\n",
    "        Parametros para la regresion logistica. Un vecto de la forma (n+1, ).\n",
    "\n",
    "    X : array_like\n",
    "        Data set de entrada. Se supone que X es una de las siguientes:\n",
    "            1) Matriz Mx3, donde la primera columna es una columna de unos para intercepción.\n",
    "            2) Matriz MxN, N> 3, donde la primera columna son todos unos.\n",
    "\n",
    "    y : array_like\n",
    "        Vector de datos de etiquetas de la forma (m, ).\n",
    "    \"\"\"\n",
    "    # hacer que theta sera un arreglo numpy\n",
    "    theta = np.array(theta)\n",
    "\n",
    "    # Graficar los datos (recordar que la primera columna en X es la intercepción)\n",
    "    plotData(X[:, 1:12], y)\n",
    "\n",
    "    if X.shape[1] <= 12:\n",
    "        # Solo se requieren 2 puntos para definir una linea, para lo cual se eligen dos puntos finales\n",
    "        plot_x = np.array([np.min(X[:, 1]) - 2, np.max(X[:, 1]) + 2])\n",
    "\n",
    "        # Calcular la línea límite de decisión\n",
    "        plot_y = (-1. / theta[2]) * (theta[1] * plot_x + theta[0])\n",
    "\n",
    "        print(plot_x)\n",
    "        print(plot_y)\n",
    "        # Graficar y ajustar los ejes para una mejor visualización\n",
    "        pyplot.plot(plot_x, plot_y)\n",
    "\n",
    "        # Leyenda, especifica para el ejercicio\n",
    "        pyplot.legend(['Admitido', 'No admitido', 'Limite de decisión'])\n",
    "        pyplot.xlim([30, 100])\n",
    "        pyplot.ylim([30, 100])\n",
    "    else:\n",
    "        # Rango de la grilla\n",
    "        u = np.linspace(-1, 1.5, 50)\n",
    "        v = np.linspace(-1, 1.5, 50)\n",
    "\n",
    "        z = np.zeros((u.size, v.size))\n",
    "        # Evalua z = theta*x sobre la grilla\n",
    "        for i, ui in enumerate(u):\n",
    "            for j, vj in enumerate(v):\n",
    "                z[i, j] = np.dot(mapFeature(ui, vj), theta)\n",
    "\n",
    "        z = z.T  # importante transponer z antes de llamar al contorno\n",
    "        # print(z)\n",
    "\n",
    "        # Plot z = 0\n",
    "        pyplot.contour(u, v, z, levels=[0], linewidths=2, colors='g')\n",
    "        pyplot.contourf(u, v, z, levels=[np.min(z), 0, np.max(z)], cmap='Greens', alpha=0.4)\n"
   ]
  },
  {
   "cell_type": "code",
   "execution_count": 18,
   "metadata": {
    "colab": {
     "base_uri": "https://localhost:8080/",
     "height": 304
    },
    "id": "tbW7DGvWH0ku",
    "outputId": "22d7b815-3aaf-4ea5-b383-28c86fec6a47"
   },
   "outputs": [
    {
     "name": "stdout",
     "output_type": "stream",
     "text": [
      "[-3.65549488  3.63216311]\n",
      "[0.13662732 6.43368123]\n"
     ]
    },
    {
     "data": {
      "image/png": "[encoded data removed]",
      "text/plain": [
       "<Figure size 432x288 with 1 Axes>"
      ]
     },
     "metadata": {
      "needs_background": "light"
     },
     "output_type": "display_data"
    }
   ],
   "source": [
    "# Graficar limites\n",
    "plotDecisionBoundary(plotData, theta, X, y)"
   ]
  },
  {
   "cell_type": "markdown",
   "metadata": {
    "id": "BbAjKpqIH0kw"
   },
   "source": [
    "<a id=\"section4\"></a>\n",
    "#### 1.2.4 Evaluación de la regresión logistica\n",
    "\n",
    "Después de aprender los parámetros, se puede usar el modelo para predecir si un estudiante en particular será admitido. Para un estudiante con una puntuación en el Examen 1 de 45 y una puntuación en el Examen 2 de 85, debe esperar ver una probabilidad de admisión de 0,776. Otra forma de evaluar la calidad de los parámetros que hemos encontrado es ver qué tan bien predice el modelo aprendido en nuestro conjunto de entrenamiento. "
   ]
  },
  {
   "cell_type": "code",
   "execution_count": 19,
   "metadata": {
    "id": "Kt1OXALyH0kw"
   },
   "outputs": [],
   "source": [
    "def predict(theta, X):\n",
    "    \"\"\"\n",
    "    Predecir si la etiqueta es 0 o 1 mediante regresión logística aprendida.\n",
    "    Calcula las predicciones para X usando un umbral en 0.5 (es decir, si sigmoide (theta.T * x)> = 0.5, predice 1)\n",
    "\n",
    "    Parametros\n",
    "    ----------\n",
    "    theta : array_like\n",
    "        Parametros para regresion logistica. Un vecto de la forma (n+1, ).\n",
    "    \n",
    "    X : array_like\n",
    "        Datos utilizados para el calculo de las predicciones. \n",
    "        La fila es el numero de los puntos para calcular las predicciones, \n",
    "        y las columnas con el numero de caracteristicas.\n",
    "\n",
    "    Devuelve\n",
    "    -------\n",
    "    p : array_like\n",
    "        Predicciones y 0 o 1 para cada fila en X. \n",
    "    \"\"\"\n",
    "    m = X.shape[0] # Numero de ejemplo de entrenamiento\n",
    "\n",
    "    p = np.zeros(m)\n",
    "\n",
    "    p = np.round(sigmoid(X.dot(theta.T)))\n",
    "    return p"
   ]
  },
  {
   "cell_type": "markdown",
   "metadata": {
    "id": "e2iSsIqZH0ky"
   },
   "source": [
    "Una vez entrenado el modelo se procede a realizar la prediccion y evaluación de los resultados de predecir cual es el valor que vota el modelo para todos los datos utilizados en el entrenamiento."
   ]
  },
  {
   "cell_type": "code",
   "execution_count": 20,
   "metadata": {
    "colab": {
     "base_uri": "https://localhost:8080/"
    },
    "id": "fOtyhI1DH0kz",
    "outputId": "5926214e-c275-4d1b-d120-7cc2943576ce"
   },
   "outputs": [
    {
     "name": "stdout",
     "output_type": "stream",
     "text": [
      "Para un empleado que tiene edad:33  trabaja en departamento:3  ubicacion:0 educacion: 1 tipo de reclutamiento:3 nivel:4\n",
      "calificacion: 4    viaja:1    N premios:3 certificado:1 salario:65715 de: \n",
      "Esta satisfecho con el empleo que tiene?  :\n",
      "1.000%\n",
      "Precisión de entrenamiento: 55.80 %\n"
     ]
    }
   ],
   "source": [
    "#  Predice la probabilidad de que un empleado este satisfecho en su empleo\n",
    "prob = sigmoid(np.dot([1,33,3,0,1,3,4,4,1,3,1,65715], theta))\n",
    "print('Para un empleado que tiene edad:33  trabaja en departamento:3  ubicacion:0 educacion: 1 tipo de reclutamiento:3 nivel:4' )\n",
    "print('calificacion: 4    viaja:1    N premios:3 certificado:1 salario:65715 de: ')\n",
    "print('Esta satisfecho con el empleo que tiene?  :')\n",
    "print('{:.3f}%'.format(prob))\n",
    "#print('Valor esperado: 0.775 +/- 0.002\\n')\n",
    "\n",
    "# Compute accuracy on our training set\n",
    "p = predict(theta, X)\n",
    "print('Precisión de entrenamiento: {:.2f} %'.format(np.mean(p == y) * 100))\n",
    "#print('Precisión esperada (aproximadamente): 89.00 %')"
   ]
  },
  {
   "cell_type": "markdown",
   "metadata": {
    "id": "cPr-Lv_jWEkO"
   },
   "source": []
  },
  {
   "cell_type": "code",
   "execution_count": null,
   "metadata": {
    "id": "mb76hYgYH0k0"
   },
   "outputs": [],
   "source": []
  },
  {
   "cell_type": "code",
   "execution_count": null,
   "metadata": {
    "id": "WF34LvVsH0k1"
   },
   "outputs": [],
   "source": []
  }
 ],
 "metadata": {
  "colab": {
   "provenance": [],
   "toc_visible": true
  },
  "kernelspec": {
   "display_name": "Python 3 (ipykernel)",
   "language": "python",
   "name": "python3"
  },
  "language_info": {
   "codemirror_mode": {
    "name": "ipython",
    "version": 3
   },
   "file_extension": ".py",
   "mimetype": "text/x-python",
   "name": "python",
   "nbconvert_exporter": "python",
   "pygments_lexer": "ipython3",
   "version": "3.9.12"
  }
 },
 "nbformat": 4,
 "nbformat_minor": 1
}
